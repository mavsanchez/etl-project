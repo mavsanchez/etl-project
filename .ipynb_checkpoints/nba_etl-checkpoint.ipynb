{
 "cells": [
  {
   "cell_type": "code",
   "execution_count": 13,
   "metadata": {},
   "outputs": [],
   "source": [
    "from splinter import Browser\n",
    "from splinter.exceptions import ElementDoesNotExist\n",
    "from bs4 import BeautifulSoup\n",
    "import requests\n",
    "import pandas as pd\n",
    "import os, string\n",
    "import csv\n",
    "# import time"
   ]
  },
  {
   "cell_type": "code",
   "execution_count": 2,
   "metadata": {},
   "outputs": [],
   "source": [
    "# currentDirectory = os.path.dirname(__file__)\n",
    "# executable_path = {\"executable_path\": f\"{currentDirectory}\\chromedriver.exe\"}\n",
    "executable_path = {'executable_path': 'chromedriver.exe'} #notebook version\n",
    "browser = Browser('chrome', **executable_path, headless=True)"
   ]
  },
  {
   "cell_type": "code",
   "execution_count": 3,
   "metadata": {},
   "outputs": [],
   "source": [
    "nba_sched_url = \"https://www.espn.com/nba/schedule/_/date/\"\n",
    "browser.visit(nba_sched_url)\n",
    "browser.html\n",
    "html = browser.html\n",
    "soup = BeautifulSoup(html, 'lxml')\n",
    "# schedules_site = pd.read_html()\n",
    "# soup"
   ]
  },
  {
   "cell_type": "code",
   "execution_count": 4,
   "metadata": {},
   "outputs": [],
   "source": [
    "sched_tables = soup.find('table', class_=\"schedule has-team-logos align-left\")\n",
    "# articles = news.find_all('li', class_='slide')\n",
    "\n",
    "# for article in articles:\n",
    "#     news_title = article.find('div', class_='content_title').a.text\n",
    "#     news_p = article.find('div', class_='article_teaser_body').text\n",
    "#     print(news_title)\n",
    "#     print(news_p)\n",
    "#     print(20*'---')\n",
    "# print(sched_tables.prettify())"
   ]
  },
  {
   "cell_type": "code",
   "execution_count": 5,
   "metadata": {},
   "outputs": [
    {
     "data": {
      "text/plain": [
       "[             matchup       Unnamed: 1             result  \\\n",
       " 0       New York  NY   Charlotte  CHA    CHA 107, NY 101   \n",
       " 1  Philadelphia  PHI   Cleveland  CLE    CLE 108, PHI 94   \n",
       " 2      Brooklyn  BKN  Washington  WSH   WSH 110, BKN 106   \n",
       " 3     Minnesota  MIN       Miami  MIA   MIN 129, MIA 126   \n",
       " 4       Orlando  ORL     Atlanta  ATL   ORL 130, ATL 120   \n",
       " 5       Memphis  MEM     Houston  HOU   HOU 140, MEM 112   \n",
       " 6        Dallas  DAL  San Antonio  SA    DAL 109, SA 103   \n",
       " 7            LA  LAC     Phoenix  PHX    LAC 102, PHX 92   \n",
       " 8        Boston  BOS       Utah  UTAH  BOS 114, UTAH 103   \n",
       " \n",
       "                   winner high                loser high  Unnamed: 5  \n",
       " 0        Terry Rozier  26 Pts     Julius Randle  18 Pts         NaN  \n",
       " 1       Collin Sexton  28 Pts      Shake Milton  20 Pts         NaN  \n",
       " 2        Bradley Beal  30 Pts      Caris LeVert  34 Pts         NaN  \n",
       " 3    D'Angelo Russell  27 Pts     Kendrick Nunn  24 Pts         NaN  \n",
       " 4       Evan Fournier  28 Pts        Trae Young  37 Pts         NaN  \n",
       " 5   Russell Westbrook  33 Pts     Dillon Brooks  22 Pts         NaN  \n",
       " 6  Kristaps Porzingis  28 Pts     DeMar DeRozan  27 Pts         NaN  \n",
       " 7       Kawhi Leonard  24 Pts     Deandre Ayton  25 Pts         NaN  \n",
       " 8        Jayson Tatum  33 Pts  Donovan Mitchell  37 Pts         NaN  ]"
      ]
     },
     "execution_count": 5,
     "metadata": {},
     "output_type": "execute_result"
    }
   ],
   "source": [
    "schedules_sites = pd.read_html(sched_tables.prettify())\n",
    "schedules_sites"
   ]
  },
  {
   "cell_type": "code",
   "execution_count": null,
   "metadata": {},
   "outputs": [],
   "source": [
    "for a in string.ascii_lowercase[:26]:\n",
    "    print(f\"https://www.basketball-reference.com/players/{a}/\")"
   ]
  },
  {
   "cell_type": "code",
   "execution_count": 14,
   "metadata": {},
   "outputs": [],
   "source": [
    "base_reference_url = \"https://www.basketball-reference.com\"\n",
    "players_url = \"https://www.basketball-reference.com/players/a/\"\n",
    "browser.visit(players_url)\n",
    "browser.html\n",
    "html = browser.html\n",
    "soup = BeautifulSoup(html, 'lxml')\n",
    "# schedules_site = pd.read_html()\n",
    "# soup"
   ]
  },
  {
   "cell_type": "code",
   "execution_count": null,
   "metadata": {},
   "outputs": [],
   "source": [
    "all_player_table = soup.find('table', class_=\"sortable stats_table now_sortable fixed_cols\")\n",
    "for row in all_player_table.find_all('th', class_=\"left\"):\n",
    "#     print(row['data-append-csv'])\n",
    "    print(f\"{base_reference_url}{row.find('a')['href']}\")"
   ]
  },
  {
   "cell_type": "code",
   "execution_count": 8,
   "metadata": {},
   "outputs": [],
   "source": [
    "# testonly = pd.read_html(\"https://www.basketball-reference.com/players/a/azubuke01.html\")\n",
    "# testonly[0]\n",
    "\n",
    "player_url = \"https://www.basketball-reference.com/players/a/azubuke01.html\"\n",
    "browser.visit(player_url)\n",
    "browser.html\n",
    "html = browser.html\n",
    "soup = BeautifulSoup(html, 'lxml')"
   ]
  },
  {
   "cell_type": "code",
   "execution_count": 9,
   "metadata": {},
   "outputs": [
    {
     "name": "stdout",
     "output_type": "stream",
     "text": [
      "<p><strong>Pronunciation</strong>: \\keh-LAH-nah ah-zoo-BWEE-kay\\</p>\n",
      "<p>\n",
      "<strong>\n",
      "<strong>Kelenna David Azubuike</strong>\n",
      "</strong>\n",
      "    \n",
      "  ▪\n",
      "  <a href=\"/friv/twitter.html\">Twitter</a>:\n",
      "  <a href=\"https://twitter.com/KAzubuike7\">KAzubuike7</a>\n",
      "</p>\n",
      "<p>\n",
      "(Big Time Buike)\n",
      "</p>\n",
      "<p>\n",
      "<strong>\n",
      "  Position:\n",
      "  </strong>\n",
      "  Small Forward and Shooting Guard\n",
      "\n",
      "\n",
      "  \n",
      "  ▪\n",
      "  \n",
      "  <strong>\n",
      "  Shoots:\n",
      "  </strong>\n",
      "  Right\n",
      "</p>\n",
      "<p><span itemprop=\"height\">6-5</span>, <span itemprop=\"weight\">220lb</span> (196cm, 99kg) </p>\n",
      "<p>\n",
      "<strong>Born:</strong>\n",
      "<span data-birth=\"1983-12-16\" id=\"necro-birth\" itemprop=\"birthDate\">\n",
      "<a href=\"/friv/birthdays.fcgi?month=12&amp;day=16\">December 16</a>,\n",
      "            <a href=\"/friv/birthyears.fcgi?year=1983\">1983</a>\n",
      "</span> <span><nobr>(Age: 36-072d)</nobr></span>\n",
      "<span itemprop=\"birthPlace\">\n",
      "    in London, <a href=\"/friv/birthplaces.fcgi?country=GB&amp;state=\">United Kingdom</a></span>\n",
      "<span class=\"f-i f-gb\">gb</span>\n",
      "</p>\n",
      "<p>\n",
      "<strong>\n",
      "    \n",
      "      College:\n",
      "    \n",
      "    </strong>\n",
      "<a href=\"/friv/colleges.fcgi?college=kentucky\">Kentucky</a>\n",
      "</p>\n",
      "<p>\n",
      "<strong>\n",
      "  High School:\n",
      "  </strong>\n",
      "  Victory Christian\n",
      "  in\n",
      "  Tulsa,\n",
      "    \n",
      "    <a href=\"/friv/high_schools.fcgi?country=US&amp;state=OK\">Oklahoma</a>\n",
      "</p>\n",
      "<p>\n",
      "<strong>Recruiting Rank: </strong> <a href=\"/awards/recruit_rankings_2002.html\">2002</a> (31)\n",
      "</p>\n",
      "<p>\n",
      "<strong>NBA Debut: </strong><a href=\"/boxscores/200701020NOK.html\">January 2, 2007</a>\n",
      "</p>\n"
     ]
    }
   ],
   "source": [
    "bio_div = soup.find_all('div', attrs={\"itemtype\" : \"https://schema.org/Person\"})\n",
    "# print(bio_div[0].h1.text)\n",
    "# player_list = [a.text.replace('\\n', '').strip() for a in bio_div[0].find_all('p')]\n",
    "# player_list.insert(0, bio_div[0].h1.text)\n",
    "for prof in bio_div[0].find_all('p'):\n",
    "        print(prof)"
   ]
  },
  {
   "cell_type": "code",
   "execution_count": 10,
   "metadata": {},
   "outputs": [
    {
     "name": "stdout",
     "output_type": "stream",
     "text": [
      "-------------------------------Pronunciation: \\keh-LAH-nah ah-zoo-BWEE-kay\\\n",
      "-------------------------------Kelenna David Azubuike Twitter: KAzubuike7\n",
      "-------------------------------(Big Time Buike)\n",
      "-------------------------------Position: Small Forward and Shooting Guard Shoots: Right\n",
      "-------------------------------6-5, 220lb (196cm, 99kg)\n",
      "-------------------------------Born:December 16, 1983 (Age: 36-072d) in London, United Kingdomgb\n",
      "-------------------------------College: Kentucky\n",
      "-------------------------------High School: Victory Christian in Tulsa, Oklahoma\n",
      "-------------------------------Recruiting Rank: 2002 (31)\n",
      "-------------------------------NBA Debut: January 2, 2007\n"
     ]
    }
   ],
   "source": [
    "bio_div = soup.find_all('div', attrs={\"itemtype\" : \"https://schema.org/Person\"})\n",
    "# print(bio_div[0].h1.text)\n",
    "# player_list = [a.text.replace('\\n', '').strip() for a in bio_div[0].find_all('p')]\n",
    "# player_list.insert(0, bio_div[0].h1.text)\n",
    "for prof in bio_div[0].find_all('p'):\n",
    "#     prof.strong.decompose()\n",
    "#     if prof.find('strong'):\n",
    "#         prof.strong.decompose()\n",
    "#     print('-------------------------------'+prof.text.replace('\\n', '').strip().replace('   ', ''))\n",
    "    myString = prof.text.replace('\\n', '').strip()\n",
    "    myString = myString.replace('▪','')\n",
    "#     myString = myString.replace('Twitter:','')\n",
    "    print('-------------------------------'+\" \".join(myString.split()))\n",
    "\n",
    "# print(player_list)\n",
    "#         print(a.text.replace('\\n', '').strip())"
   ]
  },
  {
   "cell_type": "code",
   "execution_count": 20,
   "metadata": {},
   "outputs": [
    {
     "name": "stdout",
     "output_type": "stream",
     "text": [
      "https://www.basketball-reference.com/players/a/abdelal01.html\n",
      "['Alaa Abdelnaby', 'Alaa Abdelnaby Twitter: alaatweets', '(Alphabet, The Pharaoh, Black Hole)', 'Position: Power Forward Shoots: Right', '6-10, 240lb (208cm, 108kg)', 'Born:June 24, 1968 (Age: 51-248d) in Cairo, Egypteg', 'College: Duke', 'High School: Bloomfield in Bloomfield, New Jersey', 'Draft: Portland Trail Blazers, 1st round (25th pick, 25th overall), 1990 NBA Draft', 'NBA Debut: November 2, 1990']\n",
      "https://www.basketball-reference.com/players/a/abdulza01.html\n",
      "['Zaid Abdul-Aziz', 'Zaid Abdul-Aziz', '(born Donald A. Smith)', '(Don, The Kangaroo)', 'Position: Center and Power Forward Shoots: Right', '6-9, 235lb (206cm, 106kg)', 'Born:April 7, 1946 (Age: 73-326d) in Brooklyn, New Yorkus', 'College: Iowa State', 'High School: John Jay in Brooklyn, New York', 'Draft: Cincinnati Royals, 1st round (5th pick, 5th overall), 1968 NBA Draft', 'NBA Debut: October 16, 1968']\n",
      "https://www.basketball-reference.com/players/a/abdulka01.html\n",
      "['Kareem Abdul-Jabbar', 'Pronunciation: \\\\kuh-REEM ab-dool juh-BAR\\\\', 'Kareem Abdul-Jabbar Twitter: kaj33', '(born Ferdinand Lewis Alcindor Jr.)', '(Lew, Cap, Murdock, Big Fella)', 'Position: Center Shoots: Right', '7-2, 225lb (218cm, 102kg)', 'Born:April 16, 1947 (Age: 72-317d) in New York, New Yorkus', 'College: UCLA', 'High School: Power Memorial in New York, New York', 'Draft: Milwaukee Bucks, 1st round (1st pick, 1st overall), 1969 NBA Draft', 'NBA Debut: October 18, 1969', 'Hall of Fame: Inducted as Player in 1995 (Full List)']\n",
      "https://www.basketball-reference.com/players/a/abdulma02.html\n",
      "['Mahmoud Abdul-Rauf', 'Mahmoud Abdul-Rauf', '(born Chris Wayne Jackson)', 'Position: Point Guard Shoots: Right', '6-1, 162lb (185cm, 73kg)', 'Born:March 9, 1969 (Age: 50-355d) in Gulfport, Mississippius', 'College: LSU', 'High School: Gulfport in Gulfport, Mississippi', 'Draft: Denver Nuggets, 1st round (3rd pick, 3rd overall), 1990 NBA Draft', 'NBA Debut: November 10, 1990']\n",
      "https://www.basketball-reference.com/players/a/abdulta01.html\n"
     ]
    },
    {
     "ename": "KeyboardInterrupt",
     "evalue": "",
     "output_type": "error",
     "traceback": [
      "\u001b[1;31m---------------------------------------------------------------------------\u001b[0m",
      "\u001b[1;31mKeyboardInterrupt\u001b[0m                         Traceback (most recent call last)",
      "\u001b[1;32m<ipython-input-20-d85eaf7d31e7>\u001b[0m in \u001b[0;36m<module>\u001b[1;34m\u001b[0m\n\u001b[0;32m     15\u001b[0m             \u001b[0mprint\u001b[0m\u001b[1;33m(\u001b[0m\u001b[1;34mf\"{base_reference_url}{row.find('a')['href']}\"\u001b[0m\u001b[1;33m)\u001b[0m\u001b[1;33m\u001b[0m\u001b[1;33m\u001b[0m\u001b[0m\n\u001b[0;32m     16\u001b[0m             \u001b[0mplayer_url\u001b[0m \u001b[1;33m=\u001b[0m \u001b[1;34mf\"{base_reference_url}{row.find('a')['href']}\"\u001b[0m\u001b[1;33m\u001b[0m\u001b[1;33m\u001b[0m\u001b[0m\n\u001b[1;32m---> 17\u001b[1;33m             \u001b[0mbrowser\u001b[0m\u001b[1;33m.\u001b[0m\u001b[0mvisit\u001b[0m\u001b[1;33m(\u001b[0m\u001b[0mplayer_url\u001b[0m\u001b[1;33m)\u001b[0m\u001b[1;33m\u001b[0m\u001b[1;33m\u001b[0m\u001b[0m\n\u001b[0m\u001b[0;32m     18\u001b[0m             \u001b[0mbrowser\u001b[0m\u001b[1;33m.\u001b[0m\u001b[0mhtml\u001b[0m\u001b[1;33m\u001b[0m\u001b[1;33m\u001b[0m\u001b[0m\n\u001b[0;32m     19\u001b[0m             \u001b[0mhtml\u001b[0m \u001b[1;33m=\u001b[0m \u001b[0mbrowser\u001b[0m\u001b[1;33m.\u001b[0m\u001b[0mhtml\u001b[0m\u001b[1;33m\u001b[0m\u001b[1;33m\u001b[0m\u001b[0m\n",
      "\u001b[1;32m~\\Anaconda3\\envs\\PythonData\\lib\\site-packages\\splinter\\driver\\webdriver\\__init__.py\u001b[0m in \u001b[0;36mvisit\u001b[1;34m(self, url)\u001b[0m\n\u001b[0;32m    320\u001b[0m \u001b[1;33m\u001b[0m\u001b[0m\n\u001b[0;32m    321\u001b[0m     \u001b[1;32mdef\u001b[0m \u001b[0mvisit\u001b[0m\u001b[1;33m(\u001b[0m\u001b[0mself\u001b[0m\u001b[1;33m,\u001b[0m \u001b[0murl\u001b[0m\u001b[1;33m)\u001b[0m\u001b[1;33m:\u001b[0m\u001b[1;33m\u001b[0m\u001b[1;33m\u001b[0m\u001b[0m\n\u001b[1;32m--> 322\u001b[1;33m         \u001b[0mself\u001b[0m\u001b[1;33m.\u001b[0m\u001b[0mdriver\u001b[0m\u001b[1;33m.\u001b[0m\u001b[0mget\u001b[0m\u001b[1;33m(\u001b[0m\u001b[0murl\u001b[0m\u001b[1;33m)\u001b[0m\u001b[1;33m\u001b[0m\u001b[1;33m\u001b[0m\u001b[0m\n\u001b[0m\u001b[0;32m    323\u001b[0m \u001b[1;33m\u001b[0m\u001b[0m\n\u001b[0;32m    324\u001b[0m     \u001b[1;32mdef\u001b[0m \u001b[0mback\u001b[0m\u001b[1;33m(\u001b[0m\u001b[0mself\u001b[0m\u001b[1;33m)\u001b[0m\u001b[1;33m:\u001b[0m\u001b[1;33m\u001b[0m\u001b[1;33m\u001b[0m\u001b[0m\n",
      "\u001b[1;32m~\\Anaconda3\\envs\\PythonData\\lib\\site-packages\\selenium\\webdriver\\remote\\webdriver.py\u001b[0m in \u001b[0;36mget\u001b[1;34m(self, url)\u001b[0m\n\u001b[0;32m    331\u001b[0m         \u001b[0mLoads\u001b[0m \u001b[0ma\u001b[0m \u001b[0mweb\u001b[0m \u001b[0mpage\u001b[0m \u001b[1;32min\u001b[0m \u001b[0mthe\u001b[0m \u001b[0mcurrent\u001b[0m \u001b[0mbrowser\u001b[0m \u001b[0msession\u001b[0m\u001b[1;33m.\u001b[0m\u001b[1;33m\u001b[0m\u001b[1;33m\u001b[0m\u001b[0m\n\u001b[0;32m    332\u001b[0m         \"\"\"\n\u001b[1;32m--> 333\u001b[1;33m         \u001b[0mself\u001b[0m\u001b[1;33m.\u001b[0m\u001b[0mexecute\u001b[0m\u001b[1;33m(\u001b[0m\u001b[0mCommand\u001b[0m\u001b[1;33m.\u001b[0m\u001b[0mGET\u001b[0m\u001b[1;33m,\u001b[0m \u001b[1;33m{\u001b[0m\u001b[1;34m'url'\u001b[0m\u001b[1;33m:\u001b[0m \u001b[0murl\u001b[0m\u001b[1;33m}\u001b[0m\u001b[1;33m)\u001b[0m\u001b[1;33m\u001b[0m\u001b[1;33m\u001b[0m\u001b[0m\n\u001b[0m\u001b[0;32m    334\u001b[0m \u001b[1;33m\u001b[0m\u001b[0m\n\u001b[0;32m    335\u001b[0m     \u001b[1;33m@\u001b[0m\u001b[0mproperty\u001b[0m\u001b[1;33m\u001b[0m\u001b[1;33m\u001b[0m\u001b[0m\n",
      "\u001b[1;32m~\\Anaconda3\\envs\\PythonData\\lib\\site-packages\\selenium\\webdriver\\remote\\webdriver.py\u001b[0m in \u001b[0;36mexecute\u001b[1;34m(self, driver_command, params)\u001b[0m\n\u001b[0;32m    317\u001b[0m \u001b[1;33m\u001b[0m\u001b[0m\n\u001b[0;32m    318\u001b[0m         \u001b[0mparams\u001b[0m \u001b[1;33m=\u001b[0m \u001b[0mself\u001b[0m\u001b[1;33m.\u001b[0m\u001b[0m_wrap_value\u001b[0m\u001b[1;33m(\u001b[0m\u001b[0mparams\u001b[0m\u001b[1;33m)\u001b[0m\u001b[1;33m\u001b[0m\u001b[1;33m\u001b[0m\u001b[0m\n\u001b[1;32m--> 319\u001b[1;33m         \u001b[0mresponse\u001b[0m \u001b[1;33m=\u001b[0m \u001b[0mself\u001b[0m\u001b[1;33m.\u001b[0m\u001b[0mcommand_executor\u001b[0m\u001b[1;33m.\u001b[0m\u001b[0mexecute\u001b[0m\u001b[1;33m(\u001b[0m\u001b[0mdriver_command\u001b[0m\u001b[1;33m,\u001b[0m \u001b[0mparams\u001b[0m\u001b[1;33m)\u001b[0m\u001b[1;33m\u001b[0m\u001b[1;33m\u001b[0m\u001b[0m\n\u001b[0m\u001b[0;32m    320\u001b[0m         \u001b[1;32mif\u001b[0m \u001b[0mresponse\u001b[0m\u001b[1;33m:\u001b[0m\u001b[1;33m\u001b[0m\u001b[1;33m\u001b[0m\u001b[0m\n\u001b[0;32m    321\u001b[0m             \u001b[0mself\u001b[0m\u001b[1;33m.\u001b[0m\u001b[0merror_handler\u001b[0m\u001b[1;33m.\u001b[0m\u001b[0mcheck_response\u001b[0m\u001b[1;33m(\u001b[0m\u001b[0mresponse\u001b[0m\u001b[1;33m)\u001b[0m\u001b[1;33m\u001b[0m\u001b[1;33m\u001b[0m\u001b[0m\n",
      "\u001b[1;32m~\\Anaconda3\\envs\\PythonData\\lib\\site-packages\\selenium\\webdriver\\remote\\remote_connection.py\u001b[0m in \u001b[0;36mexecute\u001b[1;34m(self, command, params)\u001b[0m\n\u001b[0;32m    372\u001b[0m         \u001b[0mdata\u001b[0m \u001b[1;33m=\u001b[0m \u001b[0mutils\u001b[0m\u001b[1;33m.\u001b[0m\u001b[0mdump_json\u001b[0m\u001b[1;33m(\u001b[0m\u001b[0mparams\u001b[0m\u001b[1;33m)\u001b[0m\u001b[1;33m\u001b[0m\u001b[1;33m\u001b[0m\u001b[0m\n\u001b[0;32m    373\u001b[0m         \u001b[0murl\u001b[0m \u001b[1;33m=\u001b[0m \u001b[1;34m'%s%s'\u001b[0m \u001b[1;33m%\u001b[0m \u001b[1;33m(\u001b[0m\u001b[0mself\u001b[0m\u001b[1;33m.\u001b[0m\u001b[0m_url\u001b[0m\u001b[1;33m,\u001b[0m \u001b[0mpath\u001b[0m\u001b[1;33m)\u001b[0m\u001b[1;33m\u001b[0m\u001b[1;33m\u001b[0m\u001b[0m\n\u001b[1;32m--> 374\u001b[1;33m         \u001b[1;32mreturn\u001b[0m \u001b[0mself\u001b[0m\u001b[1;33m.\u001b[0m\u001b[0m_request\u001b[0m\u001b[1;33m(\u001b[0m\u001b[0mcommand_info\u001b[0m\u001b[1;33m[\u001b[0m\u001b[1;36m0\u001b[0m\u001b[1;33m]\u001b[0m\u001b[1;33m,\u001b[0m \u001b[0murl\u001b[0m\u001b[1;33m,\u001b[0m \u001b[0mbody\u001b[0m\u001b[1;33m=\u001b[0m\u001b[0mdata\u001b[0m\u001b[1;33m)\u001b[0m\u001b[1;33m\u001b[0m\u001b[1;33m\u001b[0m\u001b[0m\n\u001b[0m\u001b[0;32m    375\u001b[0m \u001b[1;33m\u001b[0m\u001b[0m\n\u001b[0;32m    376\u001b[0m     \u001b[1;32mdef\u001b[0m \u001b[0m_request\u001b[0m\u001b[1;33m(\u001b[0m\u001b[0mself\u001b[0m\u001b[1;33m,\u001b[0m \u001b[0mmethod\u001b[0m\u001b[1;33m,\u001b[0m \u001b[0murl\u001b[0m\u001b[1;33m,\u001b[0m \u001b[0mbody\u001b[0m\u001b[1;33m=\u001b[0m\u001b[1;32mNone\u001b[0m\u001b[1;33m)\u001b[0m\u001b[1;33m:\u001b[0m\u001b[1;33m\u001b[0m\u001b[1;33m\u001b[0m\u001b[0m\n",
      "\u001b[1;32m~\\Anaconda3\\envs\\PythonData\\lib\\site-packages\\splinter\\driver\\webdriver\\remote_connection.py\u001b[0m in \u001b[0;36mpatch_request\u001b[1;34m(self, *args, **kwargs)\u001b[0m\n\u001b[0;32m     21\u001b[0m     \u001b[1;32mfor\u001b[0m \u001b[0m_\u001b[0m \u001b[1;32min\u001b[0m \u001b[0mrange\u001b[0m\u001b[1;33m(\u001b[0m\u001b[1;36m3\u001b[0m\u001b[1;33m)\u001b[0m\u001b[1;33m:\u001b[0m\u001b[1;33m\u001b[0m\u001b[1;33m\u001b[0m\u001b[0m\n\u001b[0;32m     22\u001b[0m         \u001b[1;32mtry\u001b[0m\u001b[1;33m:\u001b[0m\u001b[1;33m\u001b[0m\u001b[1;33m\u001b[0m\u001b[0m\n\u001b[1;32m---> 23\u001b[1;33m             \u001b[1;32mreturn\u001b[0m \u001b[0mold_request\u001b[0m\u001b[1;33m(\u001b[0m\u001b[0mself\u001b[0m\u001b[1;33m,\u001b[0m \u001b[1;33m*\u001b[0m\u001b[0margs\u001b[0m\u001b[1;33m,\u001b[0m \u001b[1;33m**\u001b[0m\u001b[0mkwargs\u001b[0m\u001b[1;33m)\u001b[0m\u001b[1;33m\u001b[0m\u001b[1;33m\u001b[0m\u001b[0m\n\u001b[0m\u001b[0;32m     24\u001b[0m         \u001b[1;32mexcept\u001b[0m \u001b[1;33m(\u001b[0m\u001b[0msocket\u001b[0m\u001b[1;33m.\u001b[0m\u001b[0merror\u001b[0m\u001b[1;33m,\u001b[0m \u001b[0mHTTPException\u001b[0m\u001b[1;33m,\u001b[0m \u001b[0mIOError\u001b[0m\u001b[1;33m,\u001b[0m \u001b[0mOSError\u001b[0m\u001b[1;33m,\u001b[0m \u001b[0mMaxRetryError\u001b[0m\u001b[1;33m)\u001b[0m \u001b[1;32mas\u001b[0m \u001b[0mexc\u001b[0m\u001b[1;33m:\u001b[0m\u001b[1;33m\u001b[0m\u001b[1;33m\u001b[0m\u001b[0m\n\u001b[0;32m     25\u001b[0m             \u001b[0mexception\u001b[0m \u001b[1;33m=\u001b[0m \u001b[0mexc\u001b[0m\u001b[1;33m\u001b[0m\u001b[1;33m\u001b[0m\u001b[0m\n",
      "\u001b[1;32m~\\Anaconda3\\envs\\PythonData\\lib\\site-packages\\selenium\\webdriver\\remote\\remote_connection.py\u001b[0m in \u001b[0;36m_request\u001b[1;34m(self, method, url, body)\u001b[0m\n\u001b[0;32m    395\u001b[0m \u001b[1;33m\u001b[0m\u001b[0m\n\u001b[0;32m    396\u001b[0m         \u001b[1;32mif\u001b[0m \u001b[0mself\u001b[0m\u001b[1;33m.\u001b[0m\u001b[0mkeep_alive\u001b[0m\u001b[1;33m:\u001b[0m\u001b[1;33m\u001b[0m\u001b[1;33m\u001b[0m\u001b[0m\n\u001b[1;32m--> 397\u001b[1;33m             \u001b[0mresp\u001b[0m \u001b[1;33m=\u001b[0m \u001b[0mself\u001b[0m\u001b[1;33m.\u001b[0m\u001b[0m_conn\u001b[0m\u001b[1;33m.\u001b[0m\u001b[0mrequest\u001b[0m\u001b[1;33m(\u001b[0m\u001b[0mmethod\u001b[0m\u001b[1;33m,\u001b[0m \u001b[0murl\u001b[0m\u001b[1;33m,\u001b[0m \u001b[0mbody\u001b[0m\u001b[1;33m=\u001b[0m\u001b[0mbody\u001b[0m\u001b[1;33m,\u001b[0m \u001b[0mheaders\u001b[0m\u001b[1;33m=\u001b[0m\u001b[0mheaders\u001b[0m\u001b[1;33m)\u001b[0m\u001b[1;33m\u001b[0m\u001b[1;33m\u001b[0m\u001b[0m\n\u001b[0m\u001b[0;32m    398\u001b[0m \u001b[1;33m\u001b[0m\u001b[0m\n\u001b[0;32m    399\u001b[0m             \u001b[0mstatuscode\u001b[0m \u001b[1;33m=\u001b[0m \u001b[0mresp\u001b[0m\u001b[1;33m.\u001b[0m\u001b[0mstatus\u001b[0m\u001b[1;33m\u001b[0m\u001b[1;33m\u001b[0m\u001b[0m\n",
      "\u001b[1;32m~\\Anaconda3\\envs\\PythonData\\lib\\site-packages\\urllib3\\request.py\u001b[0m in \u001b[0;36mrequest\u001b[1;34m(self, method, url, fields, headers, **urlopen_kw)\u001b[0m\n\u001b[0;32m     77\u001b[0m             )\n\u001b[0;32m     78\u001b[0m         \u001b[1;32melse\u001b[0m\u001b[1;33m:\u001b[0m\u001b[1;33m\u001b[0m\u001b[1;33m\u001b[0m\u001b[0m\n\u001b[1;32m---> 79\u001b[1;33m             return self.request_encode_body(\n\u001b[0m\u001b[0;32m     80\u001b[0m                 \u001b[0mmethod\u001b[0m\u001b[1;33m,\u001b[0m \u001b[0murl\u001b[0m\u001b[1;33m,\u001b[0m \u001b[0mfields\u001b[0m\u001b[1;33m=\u001b[0m\u001b[0mfields\u001b[0m\u001b[1;33m,\u001b[0m \u001b[0mheaders\u001b[0m\u001b[1;33m=\u001b[0m\u001b[0mheaders\u001b[0m\u001b[1;33m,\u001b[0m \u001b[1;33m**\u001b[0m\u001b[0murlopen_kw\u001b[0m\u001b[1;33m\u001b[0m\u001b[1;33m\u001b[0m\u001b[0m\n\u001b[0;32m     81\u001b[0m             )\n",
      "\u001b[1;32m~\\Anaconda3\\envs\\PythonData\\lib\\site-packages\\urllib3\\request.py\u001b[0m in \u001b[0;36mrequest_encode_body\u001b[1;34m(self, method, url, fields, headers, encode_multipart, multipart_boundary, **urlopen_kw)\u001b[0m\n\u001b[0;32m    169\u001b[0m         \u001b[0mextra_kw\u001b[0m\u001b[1;33m.\u001b[0m\u001b[0mupdate\u001b[0m\u001b[1;33m(\u001b[0m\u001b[0murlopen_kw\u001b[0m\u001b[1;33m)\u001b[0m\u001b[1;33m\u001b[0m\u001b[1;33m\u001b[0m\u001b[0m\n\u001b[0;32m    170\u001b[0m \u001b[1;33m\u001b[0m\u001b[0m\n\u001b[1;32m--> 171\u001b[1;33m         \u001b[1;32mreturn\u001b[0m \u001b[0mself\u001b[0m\u001b[1;33m.\u001b[0m\u001b[0murlopen\u001b[0m\u001b[1;33m(\u001b[0m\u001b[0mmethod\u001b[0m\u001b[1;33m,\u001b[0m \u001b[0murl\u001b[0m\u001b[1;33m,\u001b[0m \u001b[1;33m**\u001b[0m\u001b[0mextra_kw\u001b[0m\u001b[1;33m)\u001b[0m\u001b[1;33m\u001b[0m\u001b[1;33m\u001b[0m\u001b[0m\n\u001b[0m",
      "\u001b[1;32m~\\Anaconda3\\envs\\PythonData\\lib\\site-packages\\urllib3\\poolmanager.py\u001b[0m in \u001b[0;36murlopen\u001b[1;34m(self, method, url, redirect, **kw)\u001b[0m\n\u001b[0;32m    328\u001b[0m             \u001b[0mresponse\u001b[0m \u001b[1;33m=\u001b[0m \u001b[0mconn\u001b[0m\u001b[1;33m.\u001b[0m\u001b[0murlopen\u001b[0m\u001b[1;33m(\u001b[0m\u001b[0mmethod\u001b[0m\u001b[1;33m,\u001b[0m \u001b[0murl\u001b[0m\u001b[1;33m,\u001b[0m \u001b[1;33m**\u001b[0m\u001b[0mkw\u001b[0m\u001b[1;33m)\u001b[0m\u001b[1;33m\u001b[0m\u001b[1;33m\u001b[0m\u001b[0m\n\u001b[0;32m    329\u001b[0m         \u001b[1;32melse\u001b[0m\u001b[1;33m:\u001b[0m\u001b[1;33m\u001b[0m\u001b[1;33m\u001b[0m\u001b[0m\n\u001b[1;32m--> 330\u001b[1;33m             \u001b[0mresponse\u001b[0m \u001b[1;33m=\u001b[0m \u001b[0mconn\u001b[0m\u001b[1;33m.\u001b[0m\u001b[0murlopen\u001b[0m\u001b[1;33m(\u001b[0m\u001b[0mmethod\u001b[0m\u001b[1;33m,\u001b[0m \u001b[0mu\u001b[0m\u001b[1;33m.\u001b[0m\u001b[0mrequest_uri\u001b[0m\u001b[1;33m,\u001b[0m \u001b[1;33m**\u001b[0m\u001b[0mkw\u001b[0m\u001b[1;33m)\u001b[0m\u001b[1;33m\u001b[0m\u001b[1;33m\u001b[0m\u001b[0m\n\u001b[0m\u001b[0;32m    331\u001b[0m \u001b[1;33m\u001b[0m\u001b[0m\n\u001b[0;32m    332\u001b[0m         \u001b[0mredirect_location\u001b[0m \u001b[1;33m=\u001b[0m \u001b[0mredirect\u001b[0m \u001b[1;32mand\u001b[0m \u001b[0mresponse\u001b[0m\u001b[1;33m.\u001b[0m\u001b[0mget_redirect_location\u001b[0m\u001b[1;33m(\u001b[0m\u001b[1;33m)\u001b[0m\u001b[1;33m\u001b[0m\u001b[1;33m\u001b[0m\u001b[0m\n",
      "\u001b[1;32m~\\Anaconda3\\envs\\PythonData\\lib\\site-packages\\urllib3\\connectionpool.py\u001b[0m in \u001b[0;36murlopen\u001b[1;34m(self, method, url, body, headers, retries, redirect, assert_same_host, timeout, pool_timeout, release_conn, chunked, body_pos, **response_kw)\u001b[0m\n\u001b[0;32m    663\u001b[0m \u001b[1;33m\u001b[0m\u001b[0m\n\u001b[0;32m    664\u001b[0m             \u001b[1;31m# Make the request on the httplib connection object.\u001b[0m\u001b[1;33m\u001b[0m\u001b[1;33m\u001b[0m\u001b[1;33m\u001b[0m\u001b[0m\n\u001b[1;32m--> 665\u001b[1;33m             httplib_response = self._make_request(\n\u001b[0m\u001b[0;32m    666\u001b[0m                 \u001b[0mconn\u001b[0m\u001b[1;33m,\u001b[0m\u001b[1;33m\u001b[0m\u001b[1;33m\u001b[0m\u001b[0m\n\u001b[0;32m    667\u001b[0m                 \u001b[0mmethod\u001b[0m\u001b[1;33m,\u001b[0m\u001b[1;33m\u001b[0m\u001b[1;33m\u001b[0m\u001b[0m\n",
      "\u001b[1;32m~\\Anaconda3\\envs\\PythonData\\lib\\site-packages\\urllib3\\connectionpool.py\u001b[0m in \u001b[0;36m_make_request\u001b[1;34m(self, conn, method, url, timeout, chunked, **httplib_request_kw)\u001b[0m\n\u001b[0;32m    419\u001b[0m                     \u001b[1;31m# Python 3 (including for exceptions like SystemExit).\u001b[0m\u001b[1;33m\u001b[0m\u001b[1;33m\u001b[0m\u001b[1;33m\u001b[0m\u001b[0m\n\u001b[0;32m    420\u001b[0m                     \u001b[1;31m# Otherwise it looks like a bug in the code.\u001b[0m\u001b[1;33m\u001b[0m\u001b[1;33m\u001b[0m\u001b[1;33m\u001b[0m\u001b[0m\n\u001b[1;32m--> 421\u001b[1;33m                     \u001b[0msix\u001b[0m\u001b[1;33m.\u001b[0m\u001b[0mraise_from\u001b[0m\u001b[1;33m(\u001b[0m\u001b[0me\u001b[0m\u001b[1;33m,\u001b[0m \u001b[1;32mNone\u001b[0m\u001b[1;33m)\u001b[0m\u001b[1;33m\u001b[0m\u001b[1;33m\u001b[0m\u001b[0m\n\u001b[0m\u001b[0;32m    422\u001b[0m         \u001b[1;32mexcept\u001b[0m \u001b[1;33m(\u001b[0m\u001b[0mSocketTimeout\u001b[0m\u001b[1;33m,\u001b[0m \u001b[0mBaseSSLError\u001b[0m\u001b[1;33m,\u001b[0m \u001b[0mSocketError\u001b[0m\u001b[1;33m)\u001b[0m \u001b[1;32mas\u001b[0m \u001b[0me\u001b[0m\u001b[1;33m:\u001b[0m\u001b[1;33m\u001b[0m\u001b[1;33m\u001b[0m\u001b[0m\n\u001b[0;32m    423\u001b[0m             \u001b[0mself\u001b[0m\u001b[1;33m.\u001b[0m\u001b[0m_raise_timeout\u001b[0m\u001b[1;33m(\u001b[0m\u001b[0merr\u001b[0m\u001b[1;33m=\u001b[0m\u001b[0me\u001b[0m\u001b[1;33m,\u001b[0m \u001b[0murl\u001b[0m\u001b[1;33m=\u001b[0m\u001b[0murl\u001b[0m\u001b[1;33m,\u001b[0m \u001b[0mtimeout_value\u001b[0m\u001b[1;33m=\u001b[0m\u001b[0mread_timeout\u001b[0m\u001b[1;33m)\u001b[0m\u001b[1;33m\u001b[0m\u001b[1;33m\u001b[0m\u001b[0m\n",
      "\u001b[1;32m~\\Anaconda3\\envs\\PythonData\\lib\\site-packages\\urllib3\\packages\\six.py\u001b[0m in \u001b[0;36mraise_from\u001b[1;34m(value, from_value)\u001b[0m\n",
      "\u001b[1;32m~\\Anaconda3\\envs\\PythonData\\lib\\site-packages\\urllib3\\connectionpool.py\u001b[0m in \u001b[0;36m_make_request\u001b[1;34m(self, conn, method, url, timeout, chunked, **httplib_request_kw)\u001b[0m\n\u001b[0;32m    414\u001b[0m                 \u001b[1;31m# Python 3\u001b[0m\u001b[1;33m\u001b[0m\u001b[1;33m\u001b[0m\u001b[1;33m\u001b[0m\u001b[0m\n\u001b[0;32m    415\u001b[0m                 \u001b[1;32mtry\u001b[0m\u001b[1;33m:\u001b[0m\u001b[1;33m\u001b[0m\u001b[1;33m\u001b[0m\u001b[0m\n\u001b[1;32m--> 416\u001b[1;33m                     \u001b[0mhttplib_response\u001b[0m \u001b[1;33m=\u001b[0m \u001b[0mconn\u001b[0m\u001b[1;33m.\u001b[0m\u001b[0mgetresponse\u001b[0m\u001b[1;33m(\u001b[0m\u001b[1;33m)\u001b[0m\u001b[1;33m\u001b[0m\u001b[1;33m\u001b[0m\u001b[0m\n\u001b[0m\u001b[0;32m    417\u001b[0m                 \u001b[1;32mexcept\u001b[0m \u001b[0mBaseException\u001b[0m \u001b[1;32mas\u001b[0m \u001b[0me\u001b[0m\u001b[1;33m:\u001b[0m\u001b[1;33m\u001b[0m\u001b[1;33m\u001b[0m\u001b[0m\n\u001b[0;32m    418\u001b[0m                     \u001b[1;31m# Remove the TypeError from the exception chain in\u001b[0m\u001b[1;33m\u001b[0m\u001b[1;33m\u001b[0m\u001b[1;33m\u001b[0m\u001b[0m\n",
      "\u001b[1;32m~\\Anaconda3\\envs\\PythonData\\lib\\http\\client.py\u001b[0m in \u001b[0;36mgetresponse\u001b[1;34m(self)\u001b[0m\n\u001b[0;32m   1320\u001b[0m         \u001b[1;32mtry\u001b[0m\u001b[1;33m:\u001b[0m\u001b[1;33m\u001b[0m\u001b[1;33m\u001b[0m\u001b[0m\n\u001b[0;32m   1321\u001b[0m             \u001b[1;32mtry\u001b[0m\u001b[1;33m:\u001b[0m\u001b[1;33m\u001b[0m\u001b[1;33m\u001b[0m\u001b[0m\n\u001b[1;32m-> 1322\u001b[1;33m                 \u001b[0mresponse\u001b[0m\u001b[1;33m.\u001b[0m\u001b[0mbegin\u001b[0m\u001b[1;33m(\u001b[0m\u001b[1;33m)\u001b[0m\u001b[1;33m\u001b[0m\u001b[1;33m\u001b[0m\u001b[0m\n\u001b[0m\u001b[0;32m   1323\u001b[0m             \u001b[1;32mexcept\u001b[0m \u001b[0mConnectionError\u001b[0m\u001b[1;33m:\u001b[0m\u001b[1;33m\u001b[0m\u001b[1;33m\u001b[0m\u001b[0m\n\u001b[0;32m   1324\u001b[0m                 \u001b[0mself\u001b[0m\u001b[1;33m.\u001b[0m\u001b[0mclose\u001b[0m\u001b[1;33m(\u001b[0m\u001b[1;33m)\u001b[0m\u001b[1;33m\u001b[0m\u001b[1;33m\u001b[0m\u001b[0m\n",
      "\u001b[1;32m~\\Anaconda3\\envs\\PythonData\\lib\\http\\client.py\u001b[0m in \u001b[0;36mbegin\u001b[1;34m(self)\u001b[0m\n\u001b[0;32m    301\u001b[0m         \u001b[1;31m# read until we get a non-100 response\u001b[0m\u001b[1;33m\u001b[0m\u001b[1;33m\u001b[0m\u001b[1;33m\u001b[0m\u001b[0m\n\u001b[0;32m    302\u001b[0m         \u001b[1;32mwhile\u001b[0m \u001b[1;32mTrue\u001b[0m\u001b[1;33m:\u001b[0m\u001b[1;33m\u001b[0m\u001b[1;33m\u001b[0m\u001b[0m\n\u001b[1;32m--> 303\u001b[1;33m             \u001b[0mversion\u001b[0m\u001b[1;33m,\u001b[0m \u001b[0mstatus\u001b[0m\u001b[1;33m,\u001b[0m \u001b[0mreason\u001b[0m \u001b[1;33m=\u001b[0m \u001b[0mself\u001b[0m\u001b[1;33m.\u001b[0m\u001b[0m_read_status\u001b[0m\u001b[1;33m(\u001b[0m\u001b[1;33m)\u001b[0m\u001b[1;33m\u001b[0m\u001b[1;33m\u001b[0m\u001b[0m\n\u001b[0m\u001b[0;32m    304\u001b[0m             \u001b[1;32mif\u001b[0m \u001b[0mstatus\u001b[0m \u001b[1;33m!=\u001b[0m \u001b[0mCONTINUE\u001b[0m\u001b[1;33m:\u001b[0m\u001b[1;33m\u001b[0m\u001b[1;33m\u001b[0m\u001b[0m\n\u001b[0;32m    305\u001b[0m                 \u001b[1;32mbreak\u001b[0m\u001b[1;33m\u001b[0m\u001b[1;33m\u001b[0m\u001b[0m\n",
      "\u001b[1;32m~\\Anaconda3\\envs\\PythonData\\lib\\http\\client.py\u001b[0m in \u001b[0;36m_read_status\u001b[1;34m(self)\u001b[0m\n\u001b[0;32m    262\u001b[0m \u001b[1;33m\u001b[0m\u001b[0m\n\u001b[0;32m    263\u001b[0m     \u001b[1;32mdef\u001b[0m \u001b[0m_read_status\u001b[0m\u001b[1;33m(\u001b[0m\u001b[0mself\u001b[0m\u001b[1;33m)\u001b[0m\u001b[1;33m:\u001b[0m\u001b[1;33m\u001b[0m\u001b[1;33m\u001b[0m\u001b[0m\n\u001b[1;32m--> 264\u001b[1;33m         \u001b[0mline\u001b[0m \u001b[1;33m=\u001b[0m \u001b[0mstr\u001b[0m\u001b[1;33m(\u001b[0m\u001b[0mself\u001b[0m\u001b[1;33m.\u001b[0m\u001b[0mfp\u001b[0m\u001b[1;33m.\u001b[0m\u001b[0mreadline\u001b[0m\u001b[1;33m(\u001b[0m\u001b[0m_MAXLINE\u001b[0m \u001b[1;33m+\u001b[0m \u001b[1;36m1\u001b[0m\u001b[1;33m)\u001b[0m\u001b[1;33m,\u001b[0m \u001b[1;34m\"iso-8859-1\"\u001b[0m\u001b[1;33m)\u001b[0m\u001b[1;33m\u001b[0m\u001b[1;33m\u001b[0m\u001b[0m\n\u001b[0m\u001b[0;32m    265\u001b[0m         \u001b[1;32mif\u001b[0m \u001b[0mlen\u001b[0m\u001b[1;33m(\u001b[0m\u001b[0mline\u001b[0m\u001b[1;33m)\u001b[0m \u001b[1;33m>\u001b[0m \u001b[0m_MAXLINE\u001b[0m\u001b[1;33m:\u001b[0m\u001b[1;33m\u001b[0m\u001b[1;33m\u001b[0m\u001b[0m\n\u001b[0;32m    266\u001b[0m             \u001b[1;32mraise\u001b[0m \u001b[0mLineTooLong\u001b[0m\u001b[1;33m(\u001b[0m\u001b[1;34m\"status line\"\u001b[0m\u001b[1;33m)\u001b[0m\u001b[1;33m\u001b[0m\u001b[1;33m\u001b[0m\u001b[0m\n",
      "\u001b[1;32m~\\Anaconda3\\envs\\PythonData\\lib\\socket.py\u001b[0m in \u001b[0;36mreadinto\u001b[1;34m(self, b)\u001b[0m\n\u001b[0;32m    667\u001b[0m         \u001b[1;32mwhile\u001b[0m \u001b[1;32mTrue\u001b[0m\u001b[1;33m:\u001b[0m\u001b[1;33m\u001b[0m\u001b[1;33m\u001b[0m\u001b[0m\n\u001b[0;32m    668\u001b[0m             \u001b[1;32mtry\u001b[0m\u001b[1;33m:\u001b[0m\u001b[1;33m\u001b[0m\u001b[1;33m\u001b[0m\u001b[0m\n\u001b[1;32m--> 669\u001b[1;33m                 \u001b[1;32mreturn\u001b[0m \u001b[0mself\u001b[0m\u001b[1;33m.\u001b[0m\u001b[0m_sock\u001b[0m\u001b[1;33m.\u001b[0m\u001b[0mrecv_into\u001b[0m\u001b[1;33m(\u001b[0m\u001b[0mb\u001b[0m\u001b[1;33m)\u001b[0m\u001b[1;33m\u001b[0m\u001b[1;33m\u001b[0m\u001b[0m\n\u001b[0m\u001b[0;32m    670\u001b[0m             \u001b[1;32mexcept\u001b[0m \u001b[0mtimeout\u001b[0m\u001b[1;33m:\u001b[0m\u001b[1;33m\u001b[0m\u001b[1;33m\u001b[0m\u001b[0m\n\u001b[0;32m    671\u001b[0m                 \u001b[0mself\u001b[0m\u001b[1;33m.\u001b[0m\u001b[0m_timeout_occurred\u001b[0m \u001b[1;33m=\u001b[0m \u001b[1;32mTrue\u001b[0m\u001b[1;33m\u001b[0m\u001b[1;33m\u001b[0m\u001b[0m\n",
      "\u001b[1;31mKeyboardInterrupt\u001b[0m: "
     ]
    }
   ],
   "source": [
    "output_file = os.path.join(\"nba_players.csv\")\n",
    "#  Open the output file\n",
    "with open(output_file, \"w\", newline=\"\") as datafile:\n",
    "    writer = csv.writer(datafile)\n",
    "    base_reference_url = \"https://www.basketball-reference.com\"\n",
    "    all_players = []\n",
    "    for letter in string.ascii_lowercase[:26]:\n",
    "        players_url = f\"https://www.basketball-reference.com/players/{letter}/\"\n",
    "        browser.visit(players_url)\n",
    "        browser.html\n",
    "        html = browser.html\n",
    "        soup = BeautifulSoup(html, 'lxml')\n",
    "        all_player_table = soup.find('table', class_=\"sortable stats_table now_sortable fixed_cols\")\n",
    "        for row in all_player_table.find_all('th', class_=\"left\"):\n",
    "            print(f\"{base_reference_url}{row.find('a')['href']}\")\n",
    "            player_url = f\"{base_reference_url}{row.find('a')['href']}\"\n",
    "            browser.visit(player_url)\n",
    "            browser.html\n",
    "            html = browser.html\n",
    "            soup = BeautifulSoup(html, 'lxml')\n",
    "            bio_div = soup.find_all('div', attrs={\"itemtype\" : \"https://schema.org/Person\"})\n",
    "            player_list = []\n",
    "    #         player_list = [a.text.replace('\\n', '').strip() for a in bio_div[0].find_all('p')]\n",
    "    #         player_list.insert(0, bio_div[0].h1.text)\n",
    "            for prof in bio_div[0].find_all('p'):\n",
    "                myString = prof.text.replace('\\n', '').strip()\n",
    "                myString = myString.replace('▪','')\n",
    "                player_list.append(\" \".join(myString.split()))\n",
    "            player_list.insert(0, bio_div[0].h1.text)\n",
    "#             print(player_list)\n",
    "#             all_players.append(player_list)\n",
    "            writer.writerow(player_list)"
   ]
  },
  {
   "cell_type": "code",
   "execution_count": 12,
   "metadata": {},
   "outputs": [
    {
     "data": {
      "text/plain": [
       "[['Alaa Abdelnaby',\n",
       "  'Alaa Abdelnaby Twitter: alaatweets',\n",
       "  '(Alphabet, The Pharaoh, Black Hole)',\n",
       "  'Position: Power Forward Shoots: Right',\n",
       "  '6-10, 240lb (208cm, 108kg)',\n",
       "  'Born:June 24, 1968 (Age: 51-247d) in Cairo, Egypteg',\n",
       "  'College: Duke',\n",
       "  'High School: Bloomfield in Bloomfield, New Jersey',\n",
       "  'Draft: Portland Trail Blazers, 1st round (25th pick, 25th overall), 1990 NBA Draft',\n",
       "  'NBA Debut: November 2, 1990']]"
      ]
     },
     "execution_count": 12,
     "metadata": {},
     "output_type": "execute_result"
    }
   ],
   "source": [
    "all_players"
   ]
  },
  {
   "cell_type": "code",
   "execution_count": 103,
   "metadata": {},
   "outputs": [
    {
     "data": {
      "text/html": [
       "<div>\n",
       "<style scoped>\n",
       "    .dataframe tbody tr th:only-of-type {\n",
       "        vertical-align: middle;\n",
       "    }\n",
       "\n",
       "    .dataframe tbody tr th {\n",
       "        vertical-align: top;\n",
       "    }\n",
       "\n",
       "    .dataframe thead th {\n",
       "        text-align: right;\n",
       "    }\n",
       "</style>\n",
       "<table border=\"1\" class=\"dataframe\">\n",
       "  <thead>\n",
       "    <tr style=\"text-align: right;\">\n",
       "      <th></th>\n",
       "      <th>a</th>\n",
       "      <th>b</th>\n",
       "      <th>c</th>\n",
       "      <th>d</th>\n",
       "      <th>e</th>\n",
       "      <th>f</th>\n",
       "      <th>g</th>\n",
       "      <th>h</th>\n",
       "      <th>i</th>\n",
       "      <th>j</th>\n",
       "      <th>k</th>\n",
       "      <th>l</th>\n",
       "      <th>m</th>\n",
       "    </tr>\n",
       "  </thead>\n",
       "  <tbody>\n",
       "    <tr>\n",
       "      <th>0</th>\n",
       "      <td>Alaa Abdelnaby</td>\n",
       "      <td>Alaa Abdelnaby Twitter: alaatweets</td>\n",
       "      <td>(Alphabet, The Pharaoh, Black Hole)</td>\n",
       "      <td>Position: Power Forward Shoots: Right</td>\n",
       "      <td>6-10, 240lb (208cm, 108kg)</td>\n",
       "      <td>Born:June 24, 1968 (Age: 51-247d) in Cairo, Eg...</td>\n",
       "      <td>College: Duke</td>\n",
       "      <td>High School: Bloomfield in Bloomfield, New Jersey</td>\n",
       "      <td>Draft: Portland Trail Blazers, 1st round (25th...</td>\n",
       "      <td>NBA Debut: November 2, 1990</td>\n",
       "      <td>None</td>\n",
       "      <td>None</td>\n",
       "      <td>None</td>\n",
       "    </tr>\n",
       "    <tr>\n",
       "      <th>1</th>\n",
       "      <td>Zaid Abdul-Aziz</td>\n",
       "      <td>Zaid Abdul-Aziz</td>\n",
       "      <td>(born Donald A. Smith)</td>\n",
       "      <td>(Don, The Kangaroo)</td>\n",
       "      <td>Position: Center and Power Forward Shoots: Right</td>\n",
       "      <td>6-9, 235lb (206cm, 106kg)</td>\n",
       "      <td>Born:April 7, 1946 (Age: 73-325d) in Brooklyn,...</td>\n",
       "      <td>College: Iowa State</td>\n",
       "      <td>High School: John Jay in Brooklyn, New York</td>\n",
       "      <td>Draft: Cincinnati Royals, 1st round (5th pick,...</td>\n",
       "      <td>NBA Debut: October 16, 1968</td>\n",
       "      <td>None</td>\n",
       "      <td>None</td>\n",
       "    </tr>\n",
       "    <tr>\n",
       "      <th>2</th>\n",
       "      <td>Kareem Abdul-Jabbar</td>\n",
       "      <td>Pronunciation: \\kuh-REEM ab-dool juh-BAR\\</td>\n",
       "      <td>Kareem Abdul-Jabbar Twitter: kaj33</td>\n",
       "      <td>(born Ferdinand Lewis Alcindor Jr.)</td>\n",
       "      <td>(Lew, Cap, Murdock, Big Fella)</td>\n",
       "      <td>Position: Center Shoots: Right</td>\n",
       "      <td>7-2, 225lb (218cm, 102kg)</td>\n",
       "      <td>Born:April 16, 1947 (Age: 72-316d) in New York...</td>\n",
       "      <td>College: UCLA</td>\n",
       "      <td>High School: Power Memorial in New York, New York</td>\n",
       "      <td>Draft: Milwaukee Bucks, 1st round (1st pick, 1...</td>\n",
       "      <td>NBA Debut: October 18, 1969</td>\n",
       "      <td>Hall of Fame: Inducted as Player in 1995 (Full...</td>\n",
       "    </tr>\n",
       "    <tr>\n",
       "      <th>3</th>\n",
       "      <td>Mahmoud Abdul-Rauf</td>\n",
       "      <td>Mahmoud Abdul-Rauf</td>\n",
       "      <td>(born Chris Wayne Jackson)</td>\n",
       "      <td>Position: Point Guard Shoots: Right</td>\n",
       "      <td>6-1, 162lb (185cm, 73kg)</td>\n",
       "      <td>Born:March 9, 1969 (Age: 50-354d) in Gulfport,...</td>\n",
       "      <td>College: LSU</td>\n",
       "      <td>High School: Gulfport in Gulfport, Mississippi</td>\n",
       "      <td>Draft: Denver Nuggets, 1st round (3rd pick, 3r...</td>\n",
       "      <td>NBA Debut: November 10, 1990</td>\n",
       "      <td>None</td>\n",
       "      <td>None</td>\n",
       "      <td>None</td>\n",
       "    </tr>\n",
       "    <tr>\n",
       "      <th>4</th>\n",
       "      <td>Tariq Abdul-Wahad</td>\n",
       "      <td>Tariq Abdul-Wahad</td>\n",
       "      <td>(born Olivier Michael Saint-Jean)</td>\n",
       "      <td>Position: Shooting Guard Shoots: Right</td>\n",
       "      <td>6-6, 223lb (198cm, 101kg)</td>\n",
       "      <td>Born:November 3, 1974 (Age: 45-115d) in Maison...</td>\n",
       "      <td>Colleges: Michigan, San Jose State</td>\n",
       "      <td>High School: Lycee Aristide Briand in Evreux, ...</td>\n",
       "      <td>Draft: Sacramento Kings, 1st round (11th pick,...</td>\n",
       "      <td>NBA Debut: November 11, 1997</td>\n",
       "      <td>None</td>\n",
       "      <td>None</td>\n",
       "      <td>None</td>\n",
       "    </tr>\n",
       "  </tbody>\n",
       "</table>\n",
       "</div>"
      ],
      "text/plain": [
       "                     a                                          b  \\\n",
       "0       Alaa Abdelnaby         Alaa Abdelnaby Twitter: alaatweets   \n",
       "1      Zaid Abdul-Aziz                            Zaid Abdul-Aziz   \n",
       "2  Kareem Abdul-Jabbar  Pronunciation: \\kuh-REEM ab-dool juh-BAR\\   \n",
       "3   Mahmoud Abdul-Rauf                         Mahmoud Abdul-Rauf   \n",
       "4    Tariq Abdul-Wahad                          Tariq Abdul-Wahad   \n",
       "\n",
       "                                     c  \\\n",
       "0  (Alphabet, The Pharaoh, Black Hole)   \n",
       "1               (born Donald A. Smith)   \n",
       "2   Kareem Abdul-Jabbar Twitter: kaj33   \n",
       "3           (born Chris Wayne Jackson)   \n",
       "4    (born Olivier Michael Saint-Jean)   \n",
       "\n",
       "                                        d  \\\n",
       "0   Position: Power Forward Shoots: Right   \n",
       "1                     (Don, The Kangaroo)   \n",
       "2     (born Ferdinand Lewis Alcindor Jr.)   \n",
       "3     Position: Point Guard Shoots: Right   \n",
       "4  Position: Shooting Guard Shoots: Right   \n",
       "\n",
       "                                                  e  \\\n",
       "0                        6-10, 240lb (208cm, 108kg)   \n",
       "1  Position: Center and Power Forward Shoots: Right   \n",
       "2                    (Lew, Cap, Murdock, Big Fella)   \n",
       "3                          6-1, 162lb (185cm, 73kg)   \n",
       "4                         6-6, 223lb (198cm, 101kg)   \n",
       "\n",
       "                                                   f  \\\n",
       "0  Born:June 24, 1968 (Age: 51-247d) in Cairo, Eg...   \n",
       "1                          6-9, 235lb (206cm, 106kg)   \n",
       "2                     Position: Center Shoots: Right   \n",
       "3  Born:March 9, 1969 (Age: 50-354d) in Gulfport,...   \n",
       "4  Born:November 3, 1974 (Age: 45-115d) in Maison...   \n",
       "\n",
       "                                                   g  \\\n",
       "0                                      College: Duke   \n",
       "1  Born:April 7, 1946 (Age: 73-325d) in Brooklyn,...   \n",
       "2                          7-2, 225lb (218cm, 102kg)   \n",
       "3                                       College: LSU   \n",
       "4                 Colleges: Michigan, San Jose State   \n",
       "\n",
       "                                                   h  \\\n",
       "0  High School: Bloomfield in Bloomfield, New Jersey   \n",
       "1                                College: Iowa State   \n",
       "2  Born:April 16, 1947 (Age: 72-316d) in New York...   \n",
       "3     High School: Gulfport in Gulfport, Mississippi   \n",
       "4  High School: Lycee Aristide Briand in Evreux, ...   \n",
       "\n",
       "                                                   i  \\\n",
       "0  Draft: Portland Trail Blazers, 1st round (25th...   \n",
       "1        High School: John Jay in Brooklyn, New York   \n",
       "2                                      College: UCLA   \n",
       "3  Draft: Denver Nuggets, 1st round (3rd pick, 3r...   \n",
       "4  Draft: Sacramento Kings, 1st round (11th pick,...   \n",
       "\n",
       "                                                   j  \\\n",
       "0                        NBA Debut: November 2, 1990   \n",
       "1  Draft: Cincinnati Royals, 1st round (5th pick,...   \n",
       "2  High School: Power Memorial in New York, New York   \n",
       "3                       NBA Debut: November 10, 1990   \n",
       "4                       NBA Debut: November 11, 1997   \n",
       "\n",
       "                                                   k  \\\n",
       "0                                               None   \n",
       "1                        NBA Debut: October 16, 1968   \n",
       "2  Draft: Milwaukee Bucks, 1st round (1st pick, 1...   \n",
       "3                                               None   \n",
       "4                                               None   \n",
       "\n",
       "                             l  \\\n",
       "0                         None   \n",
       "1                         None   \n",
       "2  NBA Debut: October 18, 1969   \n",
       "3                         None   \n",
       "4                         None   \n",
       "\n",
       "                                                   m  \n",
       "0                                               None  \n",
       "1                                               None  \n",
       "2  Hall of Fame: Inducted as Player in 1995 (Full...  \n",
       "3                                               None  \n",
       "4                                               None  "
      ]
     },
     "execution_count": 103,
     "metadata": {},
     "output_type": "execute_result"
    }
   ],
   "source": [
    "df"
   ]
  },
  {
   "cell_type": "code",
   "execution_count": null,
   "metadata": {},
   "outputs": [],
   "source": [
    "base_image_url = 'https://www.jpl.nasa.gov'\n",
    "target_image_url = f'{base_image_url}/spaceimages/?search=&category=Mars'\n",
    "browser.visit(target_image_url)\n",
    "browser.html\n",
    "html = browser.html\n",
    "soup = BeautifulSoup(html, 'lxml')"
   ]
  },
  {
   "cell_type": "code",
   "execution_count": null,
   "metadata": {},
   "outputs": [],
   "source": [
    "image_art = soup.find('ul', class_='articles')\n",
    "images = image_art.find_all('li', class_='slide')\n",
    "\n",
    "for image in images:\n",
    "    featured_image_url = f\"{base_image_url}{image.a['data-fancybox-href']}\"\n",
    "    print(featured_image_url)\n",
    "    print(20*'---')"
   ]
  },
  {
   "cell_type": "code",
   "execution_count": null,
   "metadata": {},
   "outputs": [],
   "source": [
    "twitter_url = 'https://twitter.com/marswxreport'\n",
    "response = requests.get(twitter_url)\n",
    "html = response.text\n",
    "soup = BeautifulSoup(html, 'html.parser')"
   ]
  },
  {
   "cell_type": "code",
   "execution_count": null,
   "metadata": {},
   "outputs": [],
   "source": [
    "tweets_div = soup.find_all('p', class_=\"TweetTextSize TweetTextSize--normal js-tweet-text tweet-text\")\n",
    "\n",
    "for tweet in tweets_div:\n",
    "    if tweet.text.startswith(\"InSight sol\", 0):\n",
    "        print(tweet.text)\n",
    "    else:\n",
    "        continue\n",
    "    print(20*'---')"
   ]
  },
  {
   "cell_type": "code",
   "execution_count": null,
   "metadata": {},
   "outputs": [],
   "source": [
    "facts_site = pd.read_html(\"https://space-facts.com/mars/\")"
   ]
  },
  {
   "cell_type": "code",
   "execution_count": null,
   "metadata": {},
   "outputs": [],
   "source": [
    "mars_df = pd.DataFrame(facts_site[0])\n",
    "mars_df.set_index(0)\n",
    "new_dict = {}\n",
    "for row in mars_df.iterrows():\n",
    "    new_dict[row[1][0]] = row[1][1]\n",
    "new_dict"
   ]
  },
  {
   "cell_type": "code",
   "execution_count": null,
   "metadata": {},
   "outputs": [],
   "source": [
    "usgs_image_url = 'https://astropedia.astrogeology.usgs.gov'\n",
    "base_image_url = 'https://astrogeology.usgs.gov/search/results?q=hemisphere+enhanced&k1=target&v1=Mars'\n",
    "# target_image_url = f'{base_image_url}/spaceimages/?search=&category=Mars'\n",
    "browser.visit(base_image_url)\n",
    "browser.html\n",
    "html = browser.html\n",
    "soup = BeautifulSoup(html, 'lxml')\n"
   ]
  },
  {
   "cell_type": "code",
   "execution_count": null,
   "metadata": {},
   "outputs": [],
   "source": [
    "pic_links = soup.find_all('a', class_=\"itemLink\")\n",
    "# http://astropedia.astrogeology.usgs.gov/download/Mars/Viking/cerberus_enhanced.tif"
   ]
  },
  {
   "cell_type": "code",
   "execution_count": null,
   "metadata": {},
   "outputs": [],
   "source": [
    "hemisphere_image_urls = []\n",
    "for pic in pic_links:\n",
    "    img = {}\n",
    "    if pic.h3:\n",
    "        img['title'] = pic.h3.text\n",
    "        img['img_url'] = usgs_image_url+pic['href'].replace('/search/map/','/download/') +'.tif'\n",
    "        hemisphere_image_urls.append(img)"
   ]
  },
  {
   "cell_type": "code",
   "execution_count": null,
   "metadata": {},
   "outputs": [],
   "source": [
    "hemisphere_image_urls"
   ]
  },
  {
   "cell_type": "code",
   "execution_count": 11,
   "metadata": {},
   "outputs": [
    {
     "data": {
      "text/plain": [
       "['Kelenna Azubuike',\n",
       " 'Pronunciation: \\\\keh-LAH-nah ah-zoo-BWEE-kay\\\\',\n",
       " 'Kelenna David Azubuike      ▪  Twitter:  KAzubuike7',\n",
       " '(Big Time Buike)',\n",
       " 'Position:    Small Forward and Shooting Guard    ▪      Shoots:    Right',\n",
       " '6-5,\\xa0220lb\\xa0(196cm,\\xa099kg)',\n",
       " 'Born:December 16,            1983 (Age:\\xa036-072d)    in\\xa0London,\\xa0United Kingdomgb',\n",
       " 'College:        Kentucky',\n",
       " 'High School:    Victory Christian  in  Tulsa,        Oklahoma',\n",
       " 'Recruiting Rank:  2002 (31)',\n",
       " 'NBA Debut: January 2, 2007']"
      ]
     },
     "execution_count": 11,
     "metadata": {},
     "output_type": "execute_result"
    }
   ],
   "source": [
    "all_players[5]"
   ]
  },
  {
   "cell_type": "code",
   "execution_count": null,
   "metadata": {},
   "outputs": [],
   "source": []
  }
 ],
 "metadata": {
  "kernelspec": {
   "display_name": "Python 3",
   "language": "python",
   "name": "python3"
  },
  "language_info": {
   "codemirror_mode": {
    "name": "ipython",
    "version": 3
   },
   "file_extension": ".py",
   "mimetype": "text/x-python",
   "name": "python",
   "nbconvert_exporter": "python",
   "pygments_lexer": "ipython3",
   "version": "3.8.1"
  },
  "varInspector": {
   "cols": {
    "lenName": 16,
    "lenType": 16,
    "lenVar": 40
   },
   "kernels_config": {
    "python": {
     "delete_cmd_postfix": "",
     "delete_cmd_prefix": "del ",
     "library": "var_list.py",
     "varRefreshCmd": "print(var_dic_list())"
    },
    "r": {
     "delete_cmd_postfix": ") ",
     "delete_cmd_prefix": "rm(",
     "library": "var_list.r",
     "varRefreshCmd": "cat(var_dic_list()) "
    }
   },
   "types_to_exclude": [
    "module",
    "function",
    "builtin_function_or_method",
    "instance",
    "_Feature"
   ],
   "window_display": false
  }
 },
 "nbformat": 4,
 "nbformat_minor": 4
}
