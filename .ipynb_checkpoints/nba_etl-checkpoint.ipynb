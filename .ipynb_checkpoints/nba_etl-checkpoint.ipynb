{
 "cells": [
  {
   "cell_type": "code",
   "execution_count": 1,
   "metadata": {},
   "outputs": [],
   "source": [
    "from splinter import Browser\n",
    "from splinter.exceptions import ElementDoesNotExist\n",
    "from bs4 import BeautifulSoup\n",
    "import requests\n",
    "import pandas as pd\n",
    "import os, string\n",
    "# import time"
   ]
  },
  {
   "cell_type": "code",
   "execution_count": 2,
   "metadata": {},
   "outputs": [],
   "source": [
    "# currentDirectory = os.path.dirname(__file__)\n",
    "# executable_path = {\"executable_path\": f\"{currentDirectory}\\chromedriver.exe\"}\n",
    "executable_path = {'executable_path': 'chromedriver.exe'} #notebook version\n",
    "browser = Browser('chrome', **executable_path, headless=True)"
   ]
  },
  {
   "cell_type": "code",
   "execution_count": null,
   "metadata": {},
   "outputs": [],
   "source": [
    "nba_sched_url = \"https://www.espn.com/nba/schedule/_/date/\"\n",
    "browser.visit(nba_sched_url)\n",
    "browser.html\n",
    "html = browser.html\n",
    "soup = BeautifulSoup(html, 'lxml')\n",
    "# schedules_site = pd.read_html()\n",
    "# soup"
   ]
  },
  {
   "cell_type": "code",
   "execution_count": 4,
   "metadata": {},
   "outputs": [],
   "source": [
    "sched_tables = soup.find('table', class_=\"schedule has-team-logos align-left\")\n",
    "# articles = news.find_all('li', class_='slide')\n",
    "\n",
    "# for article in articles:\n",
    "#     news_title = article.find('div', class_='content_title').a.text\n",
    "#     news_p = article.find('div', class_='article_teaser_body').text\n",
    "#     print(news_title)\n",
    "#     print(news_p)\n",
    "#     print(20*'---')\n",
    "# print(sched_tables.prettify())"
   ]
  },
  {
   "cell_type": "code",
   "execution_count": 5,
   "metadata": {},
   "outputs": [
    {
     "data": {
      "text/plain": [
       "[       matchup       Unnamed: 1 time  (PT)  nat tv             tickets  \\\n",
       " 0  Dallas  DAL  San Antonio  SA       LIVE     NaN  Buy on Vivid Seats   \n",
       " 1      LA  LAC     Phoenix  PHX       LIVE     NaN  Buy on Vivid Seats   \n",
       " 2  Boston  BOS       Utah  UTAH       LIVE     NaN  Buy on Vivid Seats   \n",
       " \n",
       "    Unnamed: 5  \n",
       " 0         NaN  \n",
       " 1         NaN  \n",
       " 2         NaN  ]"
      ]
     },
     "execution_count": 5,
     "metadata": {},
     "output_type": "execute_result"
    }
   ],
   "source": [
    "schedules_sites = pd.read_html(sched_tables.prettify())\n",
    "schedules_sites"
   ]
  },
  {
   "cell_type": "code",
   "execution_count": null,
   "metadata": {},
   "outputs": [],
   "source": [
    "for a in string.ascii_lowercase[:26]:\n",
    "    print(f\"https://www.basketball-reference.com/players/{a}/\")"
   ]
  },
  {
   "cell_type": "code",
   "execution_count": 14,
   "metadata": {},
   "outputs": [],
   "source": [
    "base_reference_url = \"https://www.basketball-reference.com\"\n",
    "players_url = \"https://www.basketball-reference.com/players/a/\"\n",
    "browser.visit(players_url)\n",
    "browser.html\n",
    "html = browser.html\n",
    "soup = BeautifulSoup(html, 'lxml')\n",
    "# schedules_site = pd.read_html()\n",
    "# soup"
   ]
  },
  {
   "cell_type": "code",
   "execution_count": null,
   "metadata": {},
   "outputs": [],
   "source": [
    "all_player_table = soup.find('table', class_=\"sortable stats_table now_sortable fixed_cols\")\n",
    "for row in all_player_table.find_all('th', class_=\"left\"):\n",
    "#     print(row['data-append-csv'])\n",
    "    print(f\"{base_reference_url}{row.find('a')['href']}\")"
   ]
  },
  {
   "cell_type": "code",
   "execution_count": 95,
   "metadata": {},
   "outputs": [],
   "source": [
    "# testonly = pd.read_html(\"https://www.basketball-reference.com/players/a/azubuke01.html\")\n",
    "# testonly[0]\n",
    "\n",
    "player_url = \"https://www.basketball-reference.com/players/a/azubuke01.html\"\n",
    "browser.visit(player_url)\n",
    "browser.html\n",
    "html = browser.html\n",
    "soup = BeautifulSoup(html, 'lxml')"
   ]
  },
  {
   "cell_type": "code",
   "execution_count": 96,
   "metadata": {},
   "outputs": [
    {
     "name": "stdout",
     "output_type": "stream",
     "text": [
      "<p><strong>Pronunciation</strong>: \\keh-LAH-nah ah-zoo-BWEE-kay\\</p>\n",
      "<p>\n",
      "<strong>\n",
      "<strong>Kelenna David Azubuike</strong>\n",
      "</strong>\n",
      "    \n",
      "  ▪\n",
      "  <a href=\"/friv/twitter.html\">Twitter</a>:\n",
      "  <a href=\"https://twitter.com/KAzubuike7\">KAzubuike7</a>\n",
      "</p>\n",
      "<p>\n",
      "(Big Time Buike)\n",
      "</p>\n",
      "<p>\n",
      "<strong>\n",
      "  Position:\n",
      "  </strong>\n",
      "  Small Forward and Shooting Guard\n",
      "\n",
      "\n",
      "  \n",
      "  ▪\n",
      "  \n",
      "  <strong>\n",
      "  Shoots:\n",
      "  </strong>\n",
      "  Right\n",
      "</p>\n",
      "<p><span itemprop=\"height\">6-5</span>, <span itemprop=\"weight\">220lb</span> (196cm, 99kg) </p>\n",
      "<p>\n",
      "<strong>Born:</strong>\n",
      "<span data-birth=\"1983-12-16\" id=\"necro-birth\" itemprop=\"birthDate\">\n",
      "<a href=\"/friv/birthdays.fcgi?month=12&amp;day=16\">December 16</a>,\n",
      "            <a href=\"/friv/birthyears.fcgi?year=1983\">1983</a>\n",
      "</span> <span><nobr>(Age: 36-072d)</nobr></span>\n",
      "<span itemprop=\"birthPlace\">\n",
      "    in London, <a href=\"/friv/birthplaces.fcgi?country=GB&amp;state=\">United Kingdom</a></span>\n",
      "<span class=\"f-i f-gb\">gb</span>\n",
      "</p>\n",
      "<p>\n",
      "<strong>\n",
      "    \n",
      "      College:\n",
      "    \n",
      "    </strong>\n",
      "<a href=\"/friv/colleges.fcgi?college=kentucky\">Kentucky</a>\n",
      "</p>\n",
      "<p>\n",
      "<strong>\n",
      "  High School:\n",
      "  </strong>\n",
      "  Victory Christian\n",
      "  in\n",
      "  Tulsa,\n",
      "    \n",
      "    <a href=\"/friv/high_schools.fcgi?country=US&amp;state=OK\">Oklahoma</a>\n",
      "</p>\n",
      "<p>\n",
      "<strong>Recruiting Rank: </strong> <a href=\"/awards/recruit_rankings_2002.html\">2002</a> (31)\n",
      "</p>\n",
      "<p>\n",
      "<strong>NBA Debut: </strong><a href=\"/boxscores/200701020NOK.html\">January 2, 2007</a>\n",
      "</p>\n"
     ]
    }
   ],
   "source": [
    "bio_div = soup.find_all('div', attrs={\"itemtype\" : \"https://schema.org/Person\"})\n",
    "# print(bio_div[0].h1.text)\n",
    "# player_list = [a.text.replace('\\n', '').strip() for a in bio_div[0].find_all('p')]\n",
    "# player_list.insert(0, bio_div[0].h1.text)\n",
    "for prof in bio_div[0].find_all('p'):\n",
    "        print(prof)"
   ]
  },
  {
   "cell_type": "code",
   "execution_count": 98,
   "metadata": {},
   "outputs": [
    {
     "name": "stdout",
     "output_type": "stream",
     "text": [
      "-------------------------------Pronunciation: \\keh-LAH-nah ah-zoo-BWEE-kay\\\n",
      "-------------------------------Kelenna David Azubuike Twitter: KAzubuike7\n",
      "-------------------------------(Big Time Buike)\n",
      "-------------------------------Position: Small Forward and Shooting Guard Shoots: Right\n",
      "-------------------------------6-5, 220lb (196cm, 99kg)\n",
      "-------------------------------Born:December 16, 1983 (Age: 36-072d) in London, United Kingdomgb\n",
      "-------------------------------College: Kentucky\n",
      "-------------------------------High School: Victory Christian in Tulsa, Oklahoma\n",
      "-------------------------------Recruiting Rank: 2002 (31)\n",
      "-------------------------------NBA Debut: January 2, 2007\n"
     ]
    }
   ],
   "source": [
    "bio_div = soup.find_all('div', attrs={\"itemtype\" : \"https://schema.org/Person\"})\n",
    "# print(bio_div[0].h1.text)\n",
    "# player_list = [a.text.replace('\\n', '').strip() for a in bio_div[0].find_all('p')]\n",
    "# player_list.insert(0, bio_div[0].h1.text)\n",
    "for prof in bio_div[0].find_all('p'):\n",
    "#     prof.strong.decompose()\n",
    "#     if prof.find('strong'):\n",
    "#         prof.strong.decompose()\n",
    "#     print('-------------------------------'+prof.text.replace('\\n', '').strip().replace('   ', ''))\n",
    "    myString = prof.text.replace('\\n', '').strip()\n",
    "    myString = myString.replace('▪','')\n",
    "#     myString = myString.replace('Twitter:','')\n",
    "    print('-------------------------------'+\" \".join(myString.split()))\n",
    "\n",
    "# print(player_list)\n",
    "#         print(a.text.replace('\\n', '').strip())"
   ]
  },
  {
   "cell_type": "code",
   "execution_count": null,
   "metadata": {},
   "outputs": [],
   "source": [
    "base_reference_url = \"https://www.basketball-reference.com\"\n",
    "all_players = []\n",
    "for letter in string.ascii_lowercase[:26]:\n",
    "    players_url = f\"https://www.basketball-reference.com/players/{letter}/\"\n",
    "    browser.visit(players_url)\n",
    "    browser.html\n",
    "    html = browser.html\n",
    "    soup = BeautifulSoup(html, 'lxml')\n",
    "    all_player_table = soup.find('table', class_=\"sortable stats_table now_sortable fixed_cols\")\n",
    "    for row in all_player_table.find_all('th', class_=\"left\"):\n",
    "        print(f\"{base_reference_url}{row.find('a')['href']}\")\n",
    "        player_url = f\"{base_reference_url}{row.find('a')['href']}\"\n",
    "        browser.visit(player_url)\n",
    "        browser.html\n",
    "        html = browser.html\n",
    "        soup = BeautifulSoup(html, 'lxml')\n",
    "        bio_div = soup.find_all('div', attrs={\"itemtype\" : \"https://schema.org/Person\"})\n",
    "        player_list = []\n",
    "#         player_list = [a.text.replace('\\n', '').strip() for a in bio_div[0].find_all('p')]\n",
    "#         player_list.insert(0, bio_div[0].h1.text)\n",
    "        for prof in bio_div[0].find_all('p'):\n",
    "            myString = prof.text.replace('\\n', '').strip()\n",
    "            myString = myString.replace('▪','')\n",
    "            player_list.append(\" \".join(myString.split()))\n",
    "        player_list.insert(0, bio_div[0].h1.text)\n",
    "\n",
    "        print(player_list)\n",
    "        all_players.append(player_list)"
   ]
  },
  {
   "cell_type": "code",
   "execution_count": 102,
   "metadata": {},
   "outputs": [],
   "source": [
    "\n",
    "df = pd.DataFrame(all_players, columns = ['a', 'b','c','d','e','f','g','h','i','j','k','l','m']) "
   ]
  },
  {
   "cell_type": "code",
   "execution_count": 103,
   "metadata": {},
   "outputs": [
    {
     "data": {
      "text/html": [
       "<div>\n",
       "<style scoped>\n",
       "    .dataframe tbody tr th:only-of-type {\n",
       "        vertical-align: middle;\n",
       "    }\n",
       "\n",
       "    .dataframe tbody tr th {\n",
       "        vertical-align: top;\n",
       "    }\n",
       "\n",
       "    .dataframe thead th {\n",
       "        text-align: right;\n",
       "    }\n",
       "</style>\n",
       "<table border=\"1\" class=\"dataframe\">\n",
       "  <thead>\n",
       "    <tr style=\"text-align: right;\">\n",
       "      <th></th>\n",
       "      <th>a</th>\n",
       "      <th>b</th>\n",
       "      <th>c</th>\n",
       "      <th>d</th>\n",
       "      <th>e</th>\n",
       "      <th>f</th>\n",
       "      <th>g</th>\n",
       "      <th>h</th>\n",
       "      <th>i</th>\n",
       "      <th>j</th>\n",
       "      <th>k</th>\n",
       "      <th>l</th>\n",
       "      <th>m</th>\n",
       "    </tr>\n",
       "  </thead>\n",
       "  <tbody>\n",
       "    <tr>\n",
       "      <th>0</th>\n",
       "      <td>Alaa Abdelnaby</td>\n",
       "      <td>Alaa Abdelnaby Twitter: alaatweets</td>\n",
       "      <td>(Alphabet, The Pharaoh, Black Hole)</td>\n",
       "      <td>Position: Power Forward Shoots: Right</td>\n",
       "      <td>6-10, 240lb (208cm, 108kg)</td>\n",
       "      <td>Born:June 24, 1968 (Age: 51-247d) in Cairo, Eg...</td>\n",
       "      <td>College: Duke</td>\n",
       "      <td>High School: Bloomfield in Bloomfield, New Jersey</td>\n",
       "      <td>Draft: Portland Trail Blazers, 1st round (25th...</td>\n",
       "      <td>NBA Debut: November 2, 1990</td>\n",
       "      <td>None</td>\n",
       "      <td>None</td>\n",
       "      <td>None</td>\n",
       "    </tr>\n",
       "    <tr>\n",
       "      <th>1</th>\n",
       "      <td>Zaid Abdul-Aziz</td>\n",
       "      <td>Zaid Abdul-Aziz</td>\n",
       "      <td>(born Donald A. Smith)</td>\n",
       "      <td>(Don, The Kangaroo)</td>\n",
       "      <td>Position: Center and Power Forward Shoots: Right</td>\n",
       "      <td>6-9, 235lb (206cm, 106kg)</td>\n",
       "      <td>Born:April 7, 1946 (Age: 73-325d) in Brooklyn,...</td>\n",
       "      <td>College: Iowa State</td>\n",
       "      <td>High School: John Jay in Brooklyn, New York</td>\n",
       "      <td>Draft: Cincinnati Royals, 1st round (5th pick,...</td>\n",
       "      <td>NBA Debut: October 16, 1968</td>\n",
       "      <td>None</td>\n",
       "      <td>None</td>\n",
       "    </tr>\n",
       "    <tr>\n",
       "      <th>2</th>\n",
       "      <td>Kareem Abdul-Jabbar</td>\n",
       "      <td>Pronunciation: \\kuh-REEM ab-dool juh-BAR\\</td>\n",
       "      <td>Kareem Abdul-Jabbar Twitter: kaj33</td>\n",
       "      <td>(born Ferdinand Lewis Alcindor Jr.)</td>\n",
       "      <td>(Lew, Cap, Murdock, Big Fella)</td>\n",
       "      <td>Position: Center Shoots: Right</td>\n",
       "      <td>7-2, 225lb (218cm, 102kg)</td>\n",
       "      <td>Born:April 16, 1947 (Age: 72-316d) in New York...</td>\n",
       "      <td>College: UCLA</td>\n",
       "      <td>High School: Power Memorial in New York, New York</td>\n",
       "      <td>Draft: Milwaukee Bucks, 1st round (1st pick, 1...</td>\n",
       "      <td>NBA Debut: October 18, 1969</td>\n",
       "      <td>Hall of Fame: Inducted as Player in 1995 (Full...</td>\n",
       "    </tr>\n",
       "    <tr>\n",
       "      <th>3</th>\n",
       "      <td>Mahmoud Abdul-Rauf</td>\n",
       "      <td>Mahmoud Abdul-Rauf</td>\n",
       "      <td>(born Chris Wayne Jackson)</td>\n",
       "      <td>Position: Point Guard Shoots: Right</td>\n",
       "      <td>6-1, 162lb (185cm, 73kg)</td>\n",
       "      <td>Born:March 9, 1969 (Age: 50-354d) in Gulfport,...</td>\n",
       "      <td>College: LSU</td>\n",
       "      <td>High School: Gulfport in Gulfport, Mississippi</td>\n",
       "      <td>Draft: Denver Nuggets, 1st round (3rd pick, 3r...</td>\n",
       "      <td>NBA Debut: November 10, 1990</td>\n",
       "      <td>None</td>\n",
       "      <td>None</td>\n",
       "      <td>None</td>\n",
       "    </tr>\n",
       "    <tr>\n",
       "      <th>4</th>\n",
       "      <td>Tariq Abdul-Wahad</td>\n",
       "      <td>Tariq Abdul-Wahad</td>\n",
       "      <td>(born Olivier Michael Saint-Jean)</td>\n",
       "      <td>Position: Shooting Guard Shoots: Right</td>\n",
       "      <td>6-6, 223lb (198cm, 101kg)</td>\n",
       "      <td>Born:November 3, 1974 (Age: 45-115d) in Maison...</td>\n",
       "      <td>Colleges: Michigan, San Jose State</td>\n",
       "      <td>High School: Lycee Aristide Briand in Evreux, ...</td>\n",
       "      <td>Draft: Sacramento Kings, 1st round (11th pick,...</td>\n",
       "      <td>NBA Debut: November 11, 1997</td>\n",
       "      <td>None</td>\n",
       "      <td>None</td>\n",
       "      <td>None</td>\n",
       "    </tr>\n",
       "  </tbody>\n",
       "</table>\n",
       "</div>"
      ],
      "text/plain": [
       "                     a                                          b  \\\n",
       "0       Alaa Abdelnaby         Alaa Abdelnaby Twitter: alaatweets   \n",
       "1      Zaid Abdul-Aziz                            Zaid Abdul-Aziz   \n",
       "2  Kareem Abdul-Jabbar  Pronunciation: \\kuh-REEM ab-dool juh-BAR\\   \n",
       "3   Mahmoud Abdul-Rauf                         Mahmoud Abdul-Rauf   \n",
       "4    Tariq Abdul-Wahad                          Tariq Abdul-Wahad   \n",
       "\n",
       "                                     c  \\\n",
       "0  (Alphabet, The Pharaoh, Black Hole)   \n",
       "1               (born Donald A. Smith)   \n",
       "2   Kareem Abdul-Jabbar Twitter: kaj33   \n",
       "3           (born Chris Wayne Jackson)   \n",
       "4    (born Olivier Michael Saint-Jean)   \n",
       "\n",
       "                                        d  \\\n",
       "0   Position: Power Forward Shoots: Right   \n",
       "1                     (Don, The Kangaroo)   \n",
       "2     (born Ferdinand Lewis Alcindor Jr.)   \n",
       "3     Position: Point Guard Shoots: Right   \n",
       "4  Position: Shooting Guard Shoots: Right   \n",
       "\n",
       "                                                  e  \\\n",
       "0                        6-10, 240lb (208cm, 108kg)   \n",
       "1  Position: Center and Power Forward Shoots: Right   \n",
       "2                    (Lew, Cap, Murdock, Big Fella)   \n",
       "3                          6-1, 162lb (185cm, 73kg)   \n",
       "4                         6-6, 223lb (198cm, 101kg)   \n",
       "\n",
       "                                                   f  \\\n",
       "0  Born:June 24, 1968 (Age: 51-247d) in Cairo, Eg...   \n",
       "1                          6-9, 235lb (206cm, 106kg)   \n",
       "2                     Position: Center Shoots: Right   \n",
       "3  Born:March 9, 1969 (Age: 50-354d) in Gulfport,...   \n",
       "4  Born:November 3, 1974 (Age: 45-115d) in Maison...   \n",
       "\n",
       "                                                   g  \\\n",
       "0                                      College: Duke   \n",
       "1  Born:April 7, 1946 (Age: 73-325d) in Brooklyn,...   \n",
       "2                          7-2, 225lb (218cm, 102kg)   \n",
       "3                                       College: LSU   \n",
       "4                 Colleges: Michigan, San Jose State   \n",
       "\n",
       "                                                   h  \\\n",
       "0  High School: Bloomfield in Bloomfield, New Jersey   \n",
       "1                                College: Iowa State   \n",
       "2  Born:April 16, 1947 (Age: 72-316d) in New York...   \n",
       "3     High School: Gulfport in Gulfport, Mississippi   \n",
       "4  High School: Lycee Aristide Briand in Evreux, ...   \n",
       "\n",
       "                                                   i  \\\n",
       "0  Draft: Portland Trail Blazers, 1st round (25th...   \n",
       "1        High School: John Jay in Brooklyn, New York   \n",
       "2                                      College: UCLA   \n",
       "3  Draft: Denver Nuggets, 1st round (3rd pick, 3r...   \n",
       "4  Draft: Sacramento Kings, 1st round (11th pick,...   \n",
       "\n",
       "                                                   j  \\\n",
       "0                        NBA Debut: November 2, 1990   \n",
       "1  Draft: Cincinnati Royals, 1st round (5th pick,...   \n",
       "2  High School: Power Memorial in New York, New York   \n",
       "3                       NBA Debut: November 10, 1990   \n",
       "4                       NBA Debut: November 11, 1997   \n",
       "\n",
       "                                                   k  \\\n",
       "0                                               None   \n",
       "1                        NBA Debut: October 16, 1968   \n",
       "2  Draft: Milwaukee Bucks, 1st round (1st pick, 1...   \n",
       "3                                               None   \n",
       "4                                               None   \n",
       "\n",
       "                             l  \\\n",
       "0                         None   \n",
       "1                         None   \n",
       "2  NBA Debut: October 18, 1969   \n",
       "3                         None   \n",
       "4                         None   \n",
       "\n",
       "                                                   m  \n",
       "0                                               None  \n",
       "1                                               None  \n",
       "2  Hall of Fame: Inducted as Player in 1995 (Full...  \n",
       "3                                               None  \n",
       "4                                               None  "
      ]
     },
     "execution_count": 103,
     "metadata": {},
     "output_type": "execute_result"
    }
   ],
   "source": [
    "df"
   ]
  },
  {
   "cell_type": "code",
   "execution_count": null,
   "metadata": {},
   "outputs": [],
   "source": [
    "base_image_url = 'https://www.jpl.nasa.gov'\n",
    "target_image_url = f'{base_image_url}/spaceimages/?search=&category=Mars'\n",
    "browser.visit(target_image_url)\n",
    "browser.html\n",
    "html = browser.html\n",
    "soup = BeautifulSoup(html, 'lxml')"
   ]
  },
  {
   "cell_type": "code",
   "execution_count": null,
   "metadata": {},
   "outputs": [],
   "source": [
    "image_art = soup.find('ul', class_='articles')\n",
    "images = image_art.find_all('li', class_='slide')\n",
    "\n",
    "for image in images:\n",
    "    featured_image_url = f\"{base_image_url}{image.a['data-fancybox-href']}\"\n",
    "    print(featured_image_url)\n",
    "    print(20*'---')"
   ]
  },
  {
   "cell_type": "code",
   "execution_count": null,
   "metadata": {},
   "outputs": [],
   "source": [
    "twitter_url = 'https://twitter.com/marswxreport'\n",
    "response = requests.get(twitter_url)\n",
    "html = response.text\n",
    "soup = BeautifulSoup(html, 'html.parser')"
   ]
  },
  {
   "cell_type": "code",
   "execution_count": null,
   "metadata": {},
   "outputs": [],
   "source": [
    "tweets_div = soup.find_all('p', class_=\"TweetTextSize TweetTextSize--normal js-tweet-text tweet-text\")\n",
    "\n",
    "for tweet in tweets_div:\n",
    "    if tweet.text.startswith(\"InSight sol\", 0):\n",
    "        print(tweet.text)\n",
    "    else:\n",
    "        continue\n",
    "    print(20*'---')"
   ]
  },
  {
   "cell_type": "code",
   "execution_count": null,
   "metadata": {},
   "outputs": [],
   "source": [
    "facts_site = pd.read_html(\"https://space-facts.com/mars/\")"
   ]
  },
  {
   "cell_type": "code",
   "execution_count": null,
   "metadata": {},
   "outputs": [],
   "source": [
    "mars_df = pd.DataFrame(facts_site[0])\n",
    "mars_df.set_index(0)\n",
    "new_dict = {}\n",
    "for row in mars_df.iterrows():\n",
    "    new_dict[row[1][0]] = row[1][1]\n",
    "new_dict"
   ]
  },
  {
   "cell_type": "code",
   "execution_count": null,
   "metadata": {},
   "outputs": [],
   "source": [
    "usgs_image_url = 'https://astropedia.astrogeology.usgs.gov'\n",
    "base_image_url = 'https://astrogeology.usgs.gov/search/results?q=hemisphere+enhanced&k1=target&v1=Mars'\n",
    "# target_image_url = f'{base_image_url}/spaceimages/?search=&category=Mars'\n",
    "browser.visit(base_image_url)\n",
    "browser.html\n",
    "html = browser.html\n",
    "soup = BeautifulSoup(html, 'lxml')\n"
   ]
  },
  {
   "cell_type": "code",
   "execution_count": null,
   "metadata": {},
   "outputs": [],
   "source": [
    "pic_links = soup.find_all('a', class_=\"itemLink\")\n",
    "# http://astropedia.astrogeology.usgs.gov/download/Mars/Viking/cerberus_enhanced.tif"
   ]
  },
  {
   "cell_type": "code",
   "execution_count": null,
   "metadata": {},
   "outputs": [],
   "source": [
    "hemisphere_image_urls = []\n",
    "for pic in pic_links:\n",
    "    img = {}\n",
    "    if pic.h3:\n",
    "        img['title'] = pic.h3.text\n",
    "        img['img_url'] = usgs_image_url+pic['href'].replace('/search/map/','/download/') +'.tif'\n",
    "        hemisphere_image_urls.append(img)"
   ]
  },
  {
   "cell_type": "code",
   "execution_count": null,
   "metadata": {},
   "outputs": [],
   "source": [
    "hemisphere_image_urls"
   ]
  },
  {
   "cell_type": "code",
   "execution_count": 11,
   "metadata": {},
   "outputs": [
    {
     "data": {
      "text/plain": [
       "['Kelenna Azubuike',\n",
       " 'Pronunciation: \\\\keh-LAH-nah ah-zoo-BWEE-kay\\\\',\n",
       " 'Kelenna David Azubuike      ▪  Twitter:  KAzubuike7',\n",
       " '(Big Time Buike)',\n",
       " 'Position:    Small Forward and Shooting Guard    ▪      Shoots:    Right',\n",
       " '6-5,\\xa0220lb\\xa0(196cm,\\xa099kg)',\n",
       " 'Born:December 16,            1983 (Age:\\xa036-072d)    in\\xa0London,\\xa0United Kingdomgb',\n",
       " 'College:        Kentucky',\n",
       " 'High School:    Victory Christian  in  Tulsa,        Oklahoma',\n",
       " 'Recruiting Rank:  2002 (31)',\n",
       " 'NBA Debut: January 2, 2007']"
      ]
     },
     "execution_count": 11,
     "metadata": {},
     "output_type": "execute_result"
    }
   ],
   "source": [
    "all_players[5]"
   ]
  },
  {
   "cell_type": "code",
   "execution_count": null,
   "metadata": {},
   "outputs": [],
   "source": []
  }
 ],
 "metadata": {
  "kernelspec": {
   "display_name": "Python 3",
   "language": "python",
   "name": "python3"
  },
  "language_info": {
   "codemirror_mode": {
    "name": "ipython",
    "version": 3
   },
   "file_extension": ".py",
   "mimetype": "text/x-python",
   "name": "python",
   "nbconvert_exporter": "python",
   "pygments_lexer": "ipython3",
   "version": "3.8.1"
  },
  "varInspector": {
   "cols": {
    "lenName": 16,
    "lenType": 16,
    "lenVar": 40
   },
   "kernels_config": {
    "python": {
     "delete_cmd_postfix": "",
     "delete_cmd_prefix": "del ",
     "library": "var_list.py",
     "varRefreshCmd": "print(var_dic_list())"
    },
    "r": {
     "delete_cmd_postfix": ") ",
     "delete_cmd_prefix": "rm(",
     "library": "var_list.r",
     "varRefreshCmd": "cat(var_dic_list()) "
    }
   },
   "types_to_exclude": [
    "module",
    "function",
    "builtin_function_or_method",
    "instance",
    "_Feature"
   ],
   "window_display": false
  }
 },
 "nbformat": 4,
 "nbformat_minor": 4
}
