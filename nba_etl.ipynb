{
 "cells": [
  {
   "cell_type": "code",
   "execution_count": 121,
   "metadata": {},
   "outputs": [],
   "source": [
    "from splinter import Browser\n",
    "from splinter.exceptions import ElementDoesNotExist\n",
    "from bs4 import BeautifulSoup\n",
    "import requests\n",
    "import pandas as pd\n",
    "import os, string\n",
    "import csv\n",
    "import pymongo\n",
    "import time"
   ]
  },
  {
   "cell_type": "markdown",
   "metadata": {},
   "source": [
    "# Extract (Scrape) Data\n",
    "\n",
    "#### *Does not need to be loaded to pymongo* - can be scraped on the spot for the Project 2"
   ]
  },
  {
   "cell_type": "code",
   "execution_count": 2,
   "metadata": {},
   "outputs": [],
   "source": [
    "# currentDirectory = os.path.dirname(__file__)\n",
    "# executable_path = {\"executable_path\": f\"{currentDirectory}\\chromedriver.exe\"}\n",
    "executable_path = {'executable_path': 'chromedriver.exe'} #notebook version\n",
    "browser = Browser('chrome', **executable_path, headless=True)"
   ]
  },
  {
   "cell_type": "markdown",
   "metadata": {},
   "source": [
    "### Scrape Schedules"
   ]
  },
  {
   "cell_type": "code",
   "execution_count": 59,
   "metadata": {},
   "outputs": [
    {
     "data": {
      "text/plain": [
       "[            matchup          Unnamed: 1 time  (PT) nat tv  \\\n",
       " 0     Portland  POR        Indiana  IND       LIVE    TNT   \n",
       " 1   Sacramento  SAC  Oklahoma City  OKC       LIVE    NaN   \n",
       " 2  Los Angeles  LAL    Golden State  GS    7:30 PM    TNT   \n",
       " \n",
       "                  tickets  Unnamed: 5  \n",
       " 0     Buy on Vivid Seats         NaN  \n",
       " 1     Buy on Vivid Seats         NaN  \n",
       " 2  Tickets as low as $36         NaN  ]"
      ]
     },
     "execution_count": 59,
     "metadata": {},
     "output_type": "execute_result"
    }
   ],
   "source": [
    "nba_sched_url = \"https://www.espn.com/nba/schedule/_/date/\"\n",
    "browser.visit(nba_sched_url)\n",
    "browser.html\n",
    "html = browser.html\n",
    "soup = BeautifulSoup(html, 'lxml')\n",
    "sched_tables = soup.find('table', class_=\"schedule has-team-logos align-left\")\n",
    "schedules_sites = pd.read_html(sched_tables.prettify())\n",
    "schedules_sites"
   ]
  },
  {
   "cell_type": "markdown",
   "metadata": {},
   "source": [
    "# Load - Transform"
   ]
  },
  {
   "cell_type": "markdown",
   "metadata": {},
   "source": [
    "### Load dump to mongo / Clean on the go"
   ]
  },
  {
   "cell_type": "code",
   "execution_count": 111,
   "metadata": {},
   "outputs": [],
   "source": [
    "conn = \"mongodb://localhost:27017\"\n",
    "client = pymongo.MongoClient(conn)\n",
    "db = client.nba\n",
    "# db.nba_players_stg.drop()"
   ]
  },
  {
   "cell_type": "code",
   "execution_count": null,
   "metadata": {},
   "outputs": [],
   "source": [
    "base_reference_url = \"https://www.landofbasketball.com\"\n",
    "#Traverse to all players\n",
    "for letter in string.ascii_lowercase[:26]:\n",
    "    players_url = f\"https://www.landofbasketball.com/nba_players_index/letter_{letter}.htm\"\n",
    "    browser.visit(players_url)\n",
    "    browser.html\n",
    "    html = browser.html\n",
    "    soup = BeautifulSoup(html, 'lxml')\n",
    "    all_player_table = soup.find_all('div', class_=\"indice-items\")\n",
    "    for row in all_player_table:\n",
    "        player_d = {}\n",
    "        print(row.find('a')['href'], end='')\n",
    "        player_url = row.find('a')['href'].replace('..', base_reference_url)\n",
    "        tables = pd.read_html(player_url)\n",
    "        try_df = tables[1].set_index(0)\n",
    "        try_df.rename(columns={0: \"Key\", 1: \"Value\"}, inplace=True)\n",
    "        try_df = try_df.to_dict('index')\n",
    "        player_d['Name'] = tables[3][0][0].split(' Profile',1)[0]\n",
    "        player_d['Data'] = try_df\n",
    "        db.nba_players_stg.insert_one(player_d)"
   ]
  },
  {
   "cell_type": "markdown",
   "metadata": {},
   "source": [
    "### Validate data availability"
   ]
  },
  {
   "cell_type": "code",
   "execution_count": 116,
   "metadata": {},
   "outputs": [
    {
     "name": "stdout",
     "output_type": "stream",
     "text": [
      "{'Name': 'Alaa Abdelnaby', 'Data': {'Position:': {'Value': 'Forward / Center'}, 'Jersey Number:': {'Value': '31 (Trail Blazers), 5 (Bucks), 4 (Celtics), 30 (Kings, 76ers)'}, 'Height:': {'Value': '6-10 / 2.08 mts'}, 'Weight:': {'Value': '240 lbs / 108.9 kg'}, 'Born:': {'Value': 'June 24, 1968 in Cairo, Egypt'}, 'High-School:': {'Value': 'Bloomfield in Bloomfield, New Jersey'}, 'College:': {'Value': 'Duke University'}, 'Drafted:': {'Value': 'by the Portland Trail Blazers with No. 25 overall pick in round 1 of the 1990 NBA Draft'}, 'NBA Seasons:': {'Value': '5 (3 Playoffs)'}, 'NBA Titles:': {'Value': 'none'}, 'All-Star:': {'Value': 'none'}}}\n",
      "{'Name': 'Zaid Abdul-Aziz', 'Data': {'Position:': {'Value': 'Center / Forward'}, 'Jersey Number:': {'Value': '21 (Royals), 16 (Bucks), 35 (Bucks, Supersonics), 6 (Rockets), 35 (Rockets, Braves), 54 (Celtics), 27 (Rockets)'}, 'Height:': {'Value': '6-9 / 2.06 mts'}, 'Weight:': {'Value': '235 lbs / 106.6 kg'}, 'Born:': {'Value': 'April 07, 1946 in Brooklyn, New York, USA'}, 'High-School:': {'Value': 'John Jay in Brooklyn, New York'}, 'College:': {'Value': 'Iowa State University'}, 'Drafted:': {'Value': 'by the Cincinnati Royals with No. 5 overall pick in round 1 of the 1968 NBA Draft'}, 'NBA Seasons:': {'Value': '10 (3 Playoffs)'}, 'NBA Titles:': {'Value': 'none'}, 'All-Star:': {'Value': 'none'}}}\n"
     ]
    }
   ],
   "source": [
    "\n",
    "# result_dict['facts'] = list(db.mars_fact.find({}, {\"_id\": 0}))\n",
    "for a in db.nba_players_stg.find({}, {\"_id\": 0}).limit(2):\n",
    "    print(a)"
   ]
  },
  {
   "cell_type": "code",
   "execution_count": 127,
   "metadata": {},
   "outputs": [],
   "source": [
    "nba_news_url = \"https://apnews.com/NBA\"\n",
    "browser.visit(nba_news_url)\n",
    "browser.html\n",
    "# time.sleep(10)\n",
    "html = browser.html\n",
    "soup = BeautifulSoup(html, 'html.parser')\n",
    "\n",
    "news_tables = soup.find_all('div', attrs={\"data-key\":\"feed-card-wire-story-with-image\"})\n",
    "# schedules_sites = pd.read_html(sched_tables.prettify())\n",
    "# schedules_sites\n"
   ]
  },
  {
   "cell_type": "code",
   "execution_count": 131,
   "metadata": {},
   "outputs": [
    {
     "name": "stdout",
     "output_type": "stream",
     "text": [
      "Gallinari scores 24; Thunder rally from 19 down to top Kings\n",
      "OKLAHOMA CITY (AP) — Danilo Gallinari scored 24 points and the Oklahoma City Thunder rallied from 19 points down in the third quarter to beat the Sacramento Kings 112-108 on Thursday...\n",
      "Sabonis scores 20 points, Pacers beat Trail Blazers, 106-100\n",
      "INDIANAPOLIS (AP) — Domantas Sabonis had 20 points and 11 rebounds to lead the Indiana Pacers to a 106-100 victory over the Portland Trail Blazers on Thursday night.\n",
      "Minus Embiid and Simmons, Harris leads 76ers past Knicks\n",
      "PHILADELPHIA (AP) — Tobias Harris’ performance had the 76ers feeling good during the game, and the doctor’s report on Joel Embiid afterward had them feeling even better.\n",
      "LaRose carries Sacred Heart past St. Francis Brooklyn 73-63\n",
      "FAIRFIELD, Conn. (AP) — Kinnon LaRose had a season-high 21 points as Sacred Heart topped St. Francis Brooklyn 73-63 on Thursday night.\n",
      "76ers center Joel Embiid sidelined by shoulder injury\n",
      "PHILADELPHIA (AP) — The Philadelphia 76ers are down two All-Stars.\n",
      "NBA fines Timberwolves for violating player resting policy\n",
      "NEW YORK (AP) — The NBA fined the Minnesota Timberwolves $25,000 on Thursday for violating the player resting policy with point guard D'Angelo Russell.\n",
      "NBA Calendar\n",
      "April 15 — Regular season ends.\n",
      "Utah hosts Washington on home slide\n",
      "Washington Wizards (21-36, ninth in the Eastern Conference) vs. Utah Jazz (36-22, sixth in the Western Conference)\n",
      "Young leads Atlanta into matchup against Brooklyn\n",
      "Brooklyn Nets (26-31, seventh in the Eastern Conference) vs. Atlanta Hawks (17-43, 15th in the Eastern Conference)\n",
      "Orlando and Minnesota square off for non-conference matchup\n",
      "Minnesota Timberwolves (17-40, 14th in the Western Conference) vs. Orlando Magic (26-32, eighth in the Eastern Conference)\n",
      "Doncic and the Mavericks face the Heat\n",
      "Dallas Mavericks (36-23, seventh in the Western Conference) vs. Miami Heat (36-22, fourth in the Eastern Conference)\n",
      "Booker and the Suns take on the Pistons\n",
      "Detroit Pistons (19-41, 12th in the Eastern Conference) vs. Phoenix Suns (24-35, 13th in the Western Conference)\n",
      "New York faces Philadelphia, seeks to break 5-game skid\n",
      "New York Knicks (17-41, 13th in the Eastern Conference) vs. Philadelphia 76ers (36-23, fifth in the Eastern Conference)\n",
      "Los Angeles hosts conference foe Denver\n",
      "Denver Nuggets (40-18, second in the Western Conference) vs. Los Angeles Clippers (39-19, third in the Western Conference)\n",
      "Toronto faces conference foe Charlotte\n",
      "Charlotte Hornets (20-38, 10th in the Eastern Conference) vs. Toronto Raptors (42-16, second in the Eastern Conference)\n",
      "New Orleans and Cleveland meet for non-conference showdown\n",
      "Cleveland Cavaliers (17-41, 14th in the Eastern Conference) vs. New Orleans Pelicans (25-33, 10th in the Western Conference)\n",
      "Wednesday Sports in Brief\n",
      "TENNIS\n",
      "Celtics beat Jazz 114-103 to hand Utah 4th straight loss\n",
      "SALT LAKE CITY (AP) — Jayson Tatum took over the game when Boston needed his offense. Then his teammates finished the job in the fourth quarter.\n",
      "Joel Embiid sprains left shoulder, 76ers fall to Cavaliers\n",
      "CLEVELAND (AP) — Collin Sexton scored 28 points and the Cleveland Cavaliers routed Philadelphia 108-94 on Wednesday night after 76ers center Joel Embiid left in the first quarter because of a...\n",
      "Leonard scores 24 points, Clippers top Suns 102-92\n",
      "PHOENIX (AP) — Reggie Jackson's 3-pointer early in the fourth quarter gave the Los Angeles Clippers a double-digit lead. Teammate Marcus Morris hit another 3 with 45 seconds left that helped fend...\n",
      "Doncic, Porzingis power Mavericks by slumping Spurs, 109-103\n",
      "SAN ANTONIO (AP) — The Dallas Mavericks were not rattled when a disastrous start to the fourth quarter threatened to dismantle a game they thoroughly dominated to that point.\n",
      "Westbrook scores 33 as Rockets rout Grizzlies 140-112 \n",
      "HOUSTON (AP) — On a night when the Houston Rockets scored 140 points, all anyone wanted to talk about was their defense. \n",
      "Joel Embiid sprains shoulder, Sixers lose to Cavs 108-94\n",
      "CLEVELAND (AP) — The Philadelphia 76ers suddenly have a lot more to worry about than their poor road record or playoff seeding.\n",
      "Timberwolves rally late, shock Heat 129-126\n",
      "MIAMI (AP) — The Miami Heat get leads. They just can't hold them.\n",
      "Fournier scores 28, Gordon 25 as Magic beat Hawks 130-120\n",
      "ATLANTA (AP) — The Orlando Magic are hardly a championship contender.\n",
      "Robinson’s late 3-pointer lifts Wizards past Nets 110-106\n",
      "WASHINGTON (AP) — The Brooklyn Nets didn't want Bradley Beal to beat them with the game on the line Wednesday night.\n",
      "Graham returns, Hornets topple Knicks 107-101\n",
      "CHARLOTTE, N.C. (AP) — Hornets coach James Borrego wants Devonte Graham to finish his second NBA season strong, rather than limping down the stretch.\n",
      "No. 12 Villanova beats St. John’s 71-60 on night for Lowry\n",
      "VILLANOVA, Pa. (AP) — Kyle Lowry was as headstrong as any Villanova star to wear the uniform, and nearly wore out his welcome with coach Jay Wright before he ever hit the court. The two have since...\n",
      "Sixers’ star Embiid sprains shoulder against Cavaliers\n",
      "CLEVELAND (AP) — Philadelphia All-Star center Joel Embiid sprained his left shoulder in Wednesday night's game against the Cavaliers, adding another worry for the 76ers, who are already without...\n",
      "Former Penn coach slapped with 15-year show-cause penalty\n",
      "PHILADELPHIA (AP) — Former Penn coach Jerome Allen was hit a 15-year show-cause penalty after he accepted $300,000 in bribes to get a wealthy Florida businessman's son into the University of...\n",
      "Hornets’ Monk suspended indefinitely for drug violation\n",
      "CHARLOTTE, N.C. (AP) — Hornets guard Malik Monk has been suspended without pay for violating the terms of the NBA/NBPA anti-drug program.\n",
      "Cavaliers’ Drummond sits against 76ers with calf strain\n",
      "CLEVELAND (AP) — Cleveland Cavaliers center Andre Drummond has been ruled out for Wednesday night's game against the Philadelphia 76ers because of a strained left calf.\n",
      "Sixers’ Embiid fined for flipping off Hawk, cursing on air\n",
      "NEW YORK (AP) — The NBA fined Philadelphia 76ers center Joel Embiid $25,000 on Wednesday, two days after he made an obscene gesture on the court and used profane language during a live television...\n",
      "NBA Calendar\n",
      "April 15 — Regular season ends.\n",
      "Portland plays Indiana on 4-game road skid\n",
      "Portland Trail Blazers (26-33, ninth in the Western Conference) vs. Indiana Pacers (34-24, sixth in the Eastern Conference)\n",
      "Sacramento plays Oklahoma City on 3-game win streak\n",
      "Sacramento Kings (24-33, 12th in the Western Conference) vs. Oklahoma City Thunder (36-22, sixth in the Western Conference)\n",
      "New York takes on Charlotte on 4-game slide\n",
      "New York Knicks (17-40, 13th in the Eastern Conference) vs. Charlotte Hornets (19-38, 11th in the Eastern Conference)\n",
      "Golden State hosts Los Angeles following James’ 40-point game\n",
      "Los Angeles Lakers (44-12, first in the Western Conference) vs. Golden State Warriors (12-46, 15th in the Western Conference)\n",
      "Utah faces Boston, aims to halt 3-game slide\n",
      "Boston Celtics (40-17, third in the Eastern Conference) vs. Utah Jazz (36-21, fifth in the Western Conference)\n",
      "LeBron’s 40 bests Zion, sends Lakers past Pelicans 118-109\n",
      "LOS ANGELES (AP) — LeBron James sees a long, prosperous future ahead of Zion Williamson and the up-tempo New Orleans Pelicans.\n",
      "Kings send Warriors to 7th straight home loss, 112-94\n",
      "SAN FRANCISCO (AP) — The Sacramento Kings came out of the All-Star break knowing they had little margin for error if they wanted to make a playoff push.\n",
      "Tatum has 36, Celtics down Trail Blazers 118-106\n",
      "PORTLAND, Ore. (AP) — Jayson Tatum's 3-point practice showed against the Trail Blazers. \n",
      "Bucks get 50th win, beat Raptors in East finals rematch\n",
      "TORONTO (AP) — Giannis Antetokounmpo had 19 points and 19 rebounds, Khris Middleton scored 22 points and the Milwaukee Bucks beat the Toronto Raptors 108-97 on Tuesday night in a matchup between...\n",
      "Grant scores career-best 29, Nuggets beat Pistons 115-98\n",
      "DENVER (AP) — Nikola Jokic could hardly recall the last time the Denver Nuggets were at full strength.\n",
      "Antetokounmpo leads Bucks by Raptors in East finals rematch\n",
      "TORONTO (AP) — Giannis Antetokounmpo and the Milwaukee Bucks took down Toronto, wiping away some of the bad memories from a painful trip north of the border in last year’s...\n",
      "Schroder helps Thunder top Bulls 124-122\n",
      "CHICAGO (AP) — When it comes to close games on the road, the Oklahoma City Thunder like their chances.\n",
      "Sabonis scores 21 points to lead Pacers over Hornets, 119-80\n",
      "INDIANAPOLIS (AP) — Domantas Sabonis and the Indiana Pacers took control early before blowing out the Charlotte Hornets.\n",
      "Grizzlies rookie Brandon Clarke out with injured quadriceps\n",
      "MEMPHIS, Tenn. (AP) — Memphis rookie forward Brandon Clarke hurt his right quadriceps and will be re-valuated in two weeks. \n",
      "Warriors hopeful Stephen Curry can return Sunday\n",
      "SAN FRANCISCO (AP) — Stephen Curry is aiming to return to the Golden State Warriors lineup on Sunday for the first time sine breaking his left hand in October.\n",
      "76ers’ Simmons out at least 2 more weeks with back injury\n",
      "PHILADELPHIA (AP) — Philadelphia 76ers guard Ben Simmons will miss at least two more weeks with nerve issues in his lower back.\n"
     ]
    }
   ],
   "source": [
    "for row in news_tables:\n",
    "    print(row.h1.text) # Headlines\n",
    "    print(row.p.text)"
   ]
  },
  {
   "cell_type": "code",
   "execution_count": null,
   "metadata": {},
   "outputs": [],
   "source": []
  }
 ],
 "metadata": {
  "kernelspec": {
   "display_name": "Python 3",
   "language": "python",
   "name": "python3"
  },
  "language_info": {
   "codemirror_mode": {
    "name": "ipython",
    "version": 3
   },
   "file_extension": ".py",
   "mimetype": "text/x-python",
   "name": "python",
   "nbconvert_exporter": "python",
   "pygments_lexer": "ipython3",
   "version": "3.8.1"
  },
  "varInspector": {
   "cols": {
    "lenName": 16,
    "lenType": 16,
    "lenVar": 40
   },
   "kernels_config": {
    "python": {
     "delete_cmd_postfix": "",
     "delete_cmd_prefix": "del ",
     "library": "var_list.py",
     "varRefreshCmd": "print(var_dic_list())"
    },
    "r": {
     "delete_cmd_postfix": ") ",
     "delete_cmd_prefix": "rm(",
     "library": "var_list.r",
     "varRefreshCmd": "cat(var_dic_list()) "
    }
   },
   "types_to_exclude": [
    "module",
    "function",
    "builtin_function_or_method",
    "instance",
    "_Feature"
   ],
   "window_display": false
  }
 },
 "nbformat": 4,
 "nbformat_minor": 4
}
