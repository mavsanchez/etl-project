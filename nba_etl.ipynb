{
 "cells": [
  {
   "cell_type": "code",
   "execution_count": 121,
   "metadata": {},
   "outputs": [],
   "source": [
    "from splinter import Browser\n",
    "from splinter.exceptions import ElementDoesNotExist\n",
    "from bs4 import BeautifulSoup\n",
    "import requests\n",
    "import pandas as pd\n",
    "import os, string\n",
    "import csv\n",
    "import pymongo\n",
    "import time"
   ]
  },
  {
   "cell_type": "markdown",
   "metadata": {},
   "source": [
    "# Extract (Scrape) Data\n",
    "\n",
    "#### *Does not need to be loaded to pymongo* - can be scraped on the spot for the Project 2"
   ]
  },
  {
   "cell_type": "code",
   "execution_count": 2,
   "metadata": {},
   "outputs": [],
   "source": [
    "# currentDirectory = os.path.dirname(__file__)\n",
    "# executable_path = {\"executable_path\": f\"{currentDirectory}\\chromedriver.exe\"}\n",
    "executable_path = {'executable_path': 'chromedriver.exe'} #notebook version\n",
    "browser = Browser('chrome', **executable_path, headless=True)"
   ]
  },
  {
   "cell_type": "markdown",
   "metadata": {},
   "source": [
    "### Scrape Schedules"
   ]
  },
  {
   "cell_type": "code",
   "execution_count": 59,
   "metadata": {},
   "outputs": [
    {
     "data": {
      "text/plain": [
       "[            matchup          Unnamed: 1 time  (PT) nat tv  \\\n",
       " 0     Portland  POR        Indiana  IND       LIVE    TNT   \n",
       " 1   Sacramento  SAC  Oklahoma City  OKC       LIVE    NaN   \n",
       " 2  Los Angeles  LAL    Golden State  GS    7:30 PM    TNT   \n",
       " \n",
       "                  tickets  Unnamed: 5  \n",
       " 0     Buy on Vivid Seats         NaN  \n",
       " 1     Buy on Vivid Seats         NaN  \n",
       " 2  Tickets as low as $36         NaN  ]"
      ]
     },
     "execution_count": 59,
     "metadata": {},
     "output_type": "execute_result"
    }
   ],
   "source": [
    "nba_sched_url = \"https://www.espn.com/nba/schedule/_/date/\"\n",
    "browser.visit(nba_sched_url)\n",
    "browser.html\n",
    "html = browser.html\n",
    "soup = BeautifulSoup(html, 'lxml')\n",
    "sched_tables = soup.find('table', class_=\"schedule has-team-logos align-left\")\n",
    "schedules_sites = pd.read_html(sched_tables.prettify())\n",
    "schedules_sites"
   ]
  },
  {
   "cell_type": "markdown",
   "metadata": {},
   "source": [
    "# Load - Transform"
   ]
  },
  {
   "cell_type": "markdown",
   "metadata": {},
   "source": [
    "### Load dump to mongo / Clean on the go"
   ]
  },
  {
   "cell_type": "code",
   "execution_count": 133,
   "metadata": {},
   "outputs": [],
   "source": [
    "conn = \"mongodb://localhost:27017\"\n",
    "client = pymongo.MongoClient(conn)\n",
    "db = client.nba\n",
    "# db.nba_players_stg.drop()\n",
    "# db.nba_news_live.drop()"
   ]
  },
  {
   "cell_type": "code",
   "execution_count": null,
   "metadata": {},
   "outputs": [],
   "source": [
    "base_reference_url = \"https://www.landofbasketball.com\"\n",
    "#Traverse to all players\n",
    "for letter in string.ascii_lowercase[:26]:\n",
    "    players_url = f\"https://www.landofbasketball.com/nba_players_index/letter_{letter}.htm\"\n",
    "    browser.visit(players_url)\n",
    "    browser.html\n",
    "    html = browser.html\n",
    "    soup = BeautifulSoup(html, 'lxml')\n",
    "    all_player_table = soup.find_all('div', class_=\"indice-items\")\n",
    "    for row in all_player_table:\n",
    "        player_d = {}\n",
    "        print(row.find('a')['href'], end='')\n",
    "        player_url = row.find('a')['href'].replace('..', base_reference_url)\n",
    "        tables = pd.read_html(player_url)\n",
    "        try_df = tables[1].set_index(0)\n",
    "        try_df.rename(columns={0: \"Key\", 1: \"Value\"}, inplace=True)\n",
    "        try_df = try_df.to_dict('index')\n",
    "        player_d['Name'] = tables[3][0][0].split(' Profile',1)[0]\n",
    "        player_d['Data'] = try_df\n",
    "        db.nba_players_stg.insert_one(player_d)"
   ]
  },
  {
   "cell_type": "markdown",
   "metadata": {},
   "source": [
    "### Validate data availability"
   ]
  },
  {
   "cell_type": "code",
   "execution_count": 116,
   "metadata": {},
   "outputs": [
    {
     "name": "stdout",
     "output_type": "stream",
     "text": [
      "{'Name': 'Alaa Abdelnaby', 'Data': {'Position:': {'Value': 'Forward / Center'}, 'Jersey Number:': {'Value': '31 (Trail Blazers), 5 (Bucks), 4 (Celtics), 30 (Kings, 76ers)'}, 'Height:': {'Value': '6-10 / 2.08 mts'}, 'Weight:': {'Value': '240 lbs / 108.9 kg'}, 'Born:': {'Value': 'June 24, 1968 in Cairo, Egypt'}, 'High-School:': {'Value': 'Bloomfield in Bloomfield, New Jersey'}, 'College:': {'Value': 'Duke University'}, 'Drafted:': {'Value': 'by the Portland Trail Blazers with No. 25 overall pick in round 1 of the 1990 NBA Draft'}, 'NBA Seasons:': {'Value': '5 (3 Playoffs)'}, 'NBA Titles:': {'Value': 'none'}, 'All-Star:': {'Value': 'none'}}}\n",
      "{'Name': 'Zaid Abdul-Aziz', 'Data': {'Position:': {'Value': 'Center / Forward'}, 'Jersey Number:': {'Value': '21 (Royals), 16 (Bucks), 35 (Bucks, Supersonics), 6 (Rockets), 35 (Rockets, Braves), 54 (Celtics), 27 (Rockets)'}, 'Height:': {'Value': '6-9 / 2.06 mts'}, 'Weight:': {'Value': '235 lbs / 106.6 kg'}, 'Born:': {'Value': 'April 07, 1946 in Brooklyn, New York, USA'}, 'High-School:': {'Value': 'John Jay in Brooklyn, New York'}, 'College:': {'Value': 'Iowa State University'}, 'Drafted:': {'Value': 'by the Cincinnati Royals with No. 5 overall pick in round 1 of the 1968 NBA Draft'}, 'NBA Seasons:': {'Value': '10 (3 Playoffs)'}, 'NBA Titles:': {'Value': 'none'}, 'All-Star:': {'Value': 'none'}}}\n"
     ]
    }
   ],
   "source": [
    "\n",
    "# result_dict['facts'] = list(db.mars_fact.find({}, {\"_id\": 0}))\n",
    "for a in db.nba_players_stg.find({}, {\"_id\": 0}).limit(2):\n",
    "    print(a)"
   ]
  },
  {
   "cell_type": "markdown",
   "metadata": {},
   "source": [
    "## Scrape News"
   ]
  },
  {
   "cell_type": "code",
   "execution_count": 134,
   "metadata": {},
   "outputs": [],
   "source": [
    "nba_news_url = \"https://apnews.com/NBA\"\n",
    "browser.visit(nba_news_url)\n",
    "browser.html\n",
    "# time.sleep(10)\n",
    "html = browser.html\n",
    "soup = BeautifulSoup(html, 'html.parser')\n",
    "\n",
    "news_tables = soup.find_all('div', attrs={\"data-key\":\"feed-card-wire-story-with-image\"})\n",
    "# schedules_sites = pd.read_html(sched_tables.prettify())\n",
    "# schedules_sites\n"
   ]
  },
  {
   "cell_type": "code",
   "execution_count": 135,
   "metadata": {},
   "outputs": [
    {
     "name": "stdout",
     "output_type": "stream",
     "text": [
      "Loading Sabonis scores 20 points, Pacers beat Trail Blazers, 106-100....\n",
      "Loading Tobias Harris leads short-handed 76ers past Knicks....\n",
      "Loading Gallinari scores 24; Thunder rally from 19 down to top Kings....\n",
      "Loading Minus Embiid and Simmons, Harris leads 76ers past Knicks....\n",
      "Loading LaRose carries Sacred Heart past St. Francis Brooklyn 73-63....\n",
      "Loading 76ers center Joel Embiid sidelined by shoulder injury....\n",
      "Loading NBA fines Timberwolves for violating player resting policy....\n",
      "Loading NBA Calendar....\n",
      "Loading Utah hosts Washington on home slide....\n",
      "Loading Young leads Atlanta into matchup against Brooklyn....\n",
      "Loading Orlando and Minnesota square off for non-conference matchup....\n",
      "Loading Doncic and the Mavericks face the Heat....\n",
      "Loading Booker and the Suns take on the Pistons....\n",
      "Loading New York faces Philadelphia, seeks to break 5-game skid....\n",
      "Loading Los Angeles hosts conference foe Denver....\n",
      "Loading Toronto faces conference foe Charlotte....\n",
      "Loading New Orleans and Cleveland meet for non-conference showdown....\n",
      "Loading Wednesday Sports in Brief....\n",
      "Loading Celtics beat Jazz 114-103 to hand Utah 4th straight loss....\n",
      "Loading Joel Embiid sprains left shoulder, 76ers fall to Cavaliers....\n",
      "Loading Leonard scores 24 points, Clippers top Suns 102-92....\n",
      "Loading Doncic, Porzingis power Mavericks by slumping Spurs, 109-103....\n",
      "Loading Westbrook scores 33 as Rockets rout Grizzlies 140-112 ....\n",
      "Loading Joel Embiid sprains shoulder, Sixers lose to Cavs 108-94....\n",
      "Loading Timberwolves rally late, shock Heat 129-126....\n",
      "Loading Fournier scores 28, Gordon 25 as Magic beat Hawks 130-120....\n",
      "Loading Robinson’s late 3-pointer lifts Wizards past Nets 110-106....\n",
      "Loading Graham returns, Hornets topple Knicks 107-101....\n",
      "Loading No. 12 Villanova beats St. John’s 71-60 on night for Lowry....\n",
      "Loading Sixers’ star Embiid sprains shoulder against Cavaliers....\n",
      "Loading Former Penn coach slapped with 15-year show-cause penalty....\n",
      "Loading Hornets’ Monk suspended indefinitely for drug violation....\n",
      "Loading Cavaliers’ Drummond sits against 76ers with calf strain....\n",
      "Loading Sixers’ Embiid fined for flipping off Hawk, cursing on air....\n",
      "Loading NBA Calendar....\n",
      "Loading Portland plays Indiana on 4-game road skid....\n",
      "Loading Sacramento plays Oklahoma City on 3-game win streak....\n",
      "Loading New York takes on Charlotte on 4-game slide....\n",
      "Loading Golden State hosts Los Angeles following James’ 40-point game....\n",
      "Loading Utah faces Boston, aims to halt 3-game slide....\n",
      "Loading LeBron’s 40 bests Zion, sends Lakers past Pelicans 118-109....\n",
      "Loading Kings send Warriors to 7th straight home loss, 112-94....\n",
      "Loading Tatum has 36, Celtics down Trail Blazers 118-106....\n",
      "Loading Bucks get 50th win, beat Raptors in East finals rematch....\n",
      "Loading Grant scores career-best 29, Nuggets beat Pistons 115-98....\n",
      "Loading Antetokounmpo leads Bucks by Raptors in East finals rematch....\n",
      "Loading Schroder helps Thunder top Bulls 124-122....\n",
      "Loading Sabonis scores 21 points to lead Pacers over Hornets, 119-80....\n",
      "Loading Grizzlies rookie Brandon Clarke out with injured quadriceps....\n",
      "Loading Warriors hopeful Stephen Curry can return Sunday....\n"
     ]
    }
   ],
   "source": [
    "for row in news_tables:\n",
    "    news_content = {}\n",
    "    news_content['headline'] = row.h1.text\n",
    "    news_content['content'] = row.p.text\n",
    "    print(f\"Loading {row.h1.text}....\")\n",
    "    db.nba_news_live.insert_one(news_content)"
   ]
  },
  {
   "cell_type": "code",
   "execution_count": null,
   "metadata": {},
   "outputs": [],
   "source": [
    "\n",
    "\n",
    "\n"
   ]
  }
 ],
 "metadata": {
  "kernelspec": {
   "display_name": "Python 3",
   "language": "python",
   "name": "python3"
  },
  "language_info": {
   "codemirror_mode": {
    "name": "ipython",
    "version": 3
   },
   "file_extension": ".py",
   "mimetype": "text/x-python",
   "name": "python",
   "nbconvert_exporter": "python",
   "pygments_lexer": "ipython3",
   "version": "3.8.1"
  },
  "varInspector": {
   "cols": {
    "lenName": 16,
    "lenType": 16,
    "lenVar": 40
   },
   "kernels_config": {
    "python": {
     "delete_cmd_postfix": "",
     "delete_cmd_prefix": "del ",
     "library": "var_list.py",
     "varRefreshCmd": "print(var_dic_list())"
    },
    "r": {
     "delete_cmd_postfix": ") ",
     "delete_cmd_prefix": "rm(",
     "library": "var_list.r",
     "varRefreshCmd": "cat(var_dic_list()) "
    }
   },
   "types_to_exclude": [
    "module",
    "function",
    "builtin_function_or_method",
    "instance",
    "_Feature"
   ],
   "window_display": false
  }
 },
 "nbformat": 4,
 "nbformat_minor": 4
}
